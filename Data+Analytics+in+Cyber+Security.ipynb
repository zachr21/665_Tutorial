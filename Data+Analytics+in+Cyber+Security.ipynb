{
 "cells": [
  {
   "cell_type": "markdown",
   "metadata": {},
   "source": [
    "# Visualization of CyberSecurity Breaches"
   ]
  },
  {
   "cell_type": "code",
   "execution_count": 1,
   "metadata": {},
   "outputs": [
    {
     "data": {
      "text/html": [
       "<img src=\"http://www.shedoesthecity.com/wp-content/uploads/files/2017/01/hacks.jpg\"/>"
      ],
      "text/plain": [
       "<IPython.core.display.Image object>"
      ]
     },
     "execution_count": 1,
     "metadata": {},
     "output_type": "execute_result"
    }
   ],
   "source": [
    "from IPython.display import Image\n",
    "from IPython.core.display import HTML \n",
    "Image(url= \"http://www.shedoesthecity.com/wp-content/uploads/files/2017/01/hacks.jpg\")"
   ]
  },
  {
   "cell_type": "code",
   "execution_count": 2,
   "metadata": {},
   "outputs": [
    {
     "data": {
      "text/html": [
       "\n",
       "    <div class=\"bk-root\">\n",
       "        <a href=\"http://bokeh.pydata.org\" target=\"_blank\" class=\"bk-logo bk-logo-small bk-logo-notebook\"></a>\n",
       "        <span id=\"d56f6c0f-037a-42ed-9d31-961bbfee6c20\">Loading BokehJS ...</span>\n",
       "    </div>"
      ]
     },
     "metadata": {},
     "output_type": "display_data"
    },
    {
     "data": {
      "application/javascript": [
       "\n",
       "(function(global) {\n",
       "  function now() {\n",
       "    return new Date();\n",
       "  }\n",
       "\n",
       "  var force = true;\n",
       "\n",
       "  if (typeof (window._bokeh_onload_callbacks) === \"undefined\" || force === true) {\n",
       "    window._bokeh_onload_callbacks = [];\n",
       "    window._bokeh_is_loading = undefined;\n",
       "  }\n",
       "\n",
       "\n",
       "  \n",
       "  if (typeof (window._bokeh_timeout) === \"undefined\" || force === true) {\n",
       "    window._bokeh_timeout = Date.now() + 5000;\n",
       "    window._bokeh_failed_load = false;\n",
       "  }\n",
       "\n",
       "  var NB_LOAD_WARNING = {'data': {'text/html':\n",
       "     \"<div style='background-color: #fdd'>\\n\"+\n",
       "     \"<p>\\n\"+\n",
       "     \"BokehJS does not appear to have successfully loaded. If loading BokehJS from CDN, this \\n\"+\n",
       "     \"may be due to a slow or bad network connection. Possible fixes:\\n\"+\n",
       "     \"</p>\\n\"+\n",
       "     \"<ul>\\n\"+\n",
       "     \"<li>re-rerun `output_notebook()` to attempt to load from CDN again, or</li>\\n\"+\n",
       "     \"<li>use INLINE resources instead, as so:</li>\\n\"+\n",
       "     \"</ul>\\n\"+\n",
       "     \"<code>\\n\"+\n",
       "     \"from bokeh.resources import INLINE\\n\"+\n",
       "     \"output_notebook(resources=INLINE)\\n\"+\n",
       "     \"</code>\\n\"+\n",
       "     \"</div>\"}};\n",
       "\n",
       "  function display_loaded() {\n",
       "    if (window.Bokeh !== undefined) {\n",
       "      var el = document.getElementById(\"d56f6c0f-037a-42ed-9d31-961bbfee6c20\");\n",
       "      el.textContent = \"BokehJS \" + Bokeh.version + \" successfully loaded.\";\n",
       "    } else if (Date.now() < window._bokeh_timeout) {\n",
       "      setTimeout(display_loaded, 100)\n",
       "    }\n",
       "  }\n",
       "\n",
       "  function run_callbacks() {\n",
       "    window._bokeh_onload_callbacks.forEach(function(callback) { callback() });\n",
       "    delete window._bokeh_onload_callbacks\n",
       "    console.info(\"Bokeh: all callbacks have finished\");\n",
       "  }\n",
       "\n",
       "  function load_libs(js_urls, callback) {\n",
       "    window._bokeh_onload_callbacks.push(callback);\n",
       "    if (window._bokeh_is_loading > 0) {\n",
       "      console.log(\"Bokeh: BokehJS is being loaded, scheduling callback at\", now());\n",
       "      return null;\n",
       "    }\n",
       "    if (js_urls == null || js_urls.length === 0) {\n",
       "      run_callbacks();\n",
       "      return null;\n",
       "    }\n",
       "    console.log(\"Bokeh: BokehJS not loaded, scheduling load and callback at\", now());\n",
       "    window._bokeh_is_loading = js_urls.length;\n",
       "    for (var i = 0; i < js_urls.length; i++) {\n",
       "      var url = js_urls[i];\n",
       "      var s = document.createElement('script');\n",
       "      s.src = url;\n",
       "      s.async = false;\n",
       "      s.onreadystatechange = s.onload = function() {\n",
       "        window._bokeh_is_loading--;\n",
       "        if (window._bokeh_is_loading === 0) {\n",
       "          console.log(\"Bokeh: all BokehJS libraries loaded\");\n",
       "          run_callbacks()\n",
       "        }\n",
       "      };\n",
       "      s.onerror = function() {\n",
       "        console.warn(\"failed to load library \" + url);\n",
       "      };\n",
       "      console.log(\"Bokeh: injecting script tag for BokehJS library: \", url);\n",
       "      document.getElementsByTagName(\"head\")[0].appendChild(s);\n",
       "    }\n",
       "  };var element = document.getElementById(\"d56f6c0f-037a-42ed-9d31-961bbfee6c20\");\n",
       "  if (element == null) {\n",
       "    console.log(\"Bokeh: ERROR: autoload.js configured with elementid 'd56f6c0f-037a-42ed-9d31-961bbfee6c20' but no matching script tag was found. \")\n",
       "    return false;\n",
       "  }\n",
       "\n",
       "  var js_urls = [\"https://cdn.pydata.org/bokeh/release/bokeh-0.12.5.min.js\", \"https://cdn.pydata.org/bokeh/release/bokeh-widgets-0.12.5.min.js\"];\n",
       "\n",
       "  var inline_js = [\n",
       "    function(Bokeh) {\n",
       "      Bokeh.set_log_level(\"info\");\n",
       "    },\n",
       "    \n",
       "    function(Bokeh) {\n",
       "      \n",
       "    },\n",
       "    \n",
       "    function(Bokeh) {\n",
       "      \n",
       "      document.getElementById(\"d56f6c0f-037a-42ed-9d31-961bbfee6c20\").textContent = \"BokehJS is loading...\";\n",
       "    },\n",
       "    function(Bokeh) {\n",
       "      console.log(\"Bokeh: injecting CSS: https://cdn.pydata.org/bokeh/release/bokeh-0.12.5.min.css\");\n",
       "      Bokeh.embed.inject_css(\"https://cdn.pydata.org/bokeh/release/bokeh-0.12.5.min.css\");\n",
       "      console.log(\"Bokeh: injecting CSS: https://cdn.pydata.org/bokeh/release/bokeh-widgets-0.12.5.min.css\");\n",
       "      Bokeh.embed.inject_css(\"https://cdn.pydata.org/bokeh/release/bokeh-widgets-0.12.5.min.css\");\n",
       "    }\n",
       "  ];\n",
       "\n",
       "  function run_inline_js() {\n",
       "    \n",
       "    if ((window.Bokeh !== undefined) || (force === true)) {\n",
       "      for (var i = 0; i < inline_js.length; i++) {\n",
       "        inline_js[i](window.Bokeh);\n",
       "      }if (force === true) {\n",
       "        display_loaded();\n",
       "      }} else if (Date.now() < window._bokeh_timeout) {\n",
       "      setTimeout(run_inline_js, 100);\n",
       "    } else if (!window._bokeh_failed_load) {\n",
       "      console.log(\"Bokeh: BokehJS failed to load within specified timeout.\");\n",
       "      window._bokeh_failed_load = true;\n",
       "    } else if (force !== true) {\n",
       "      var cell = $(document.getElementById(\"d56f6c0f-037a-42ed-9d31-961bbfee6c20\")).parents('.cell').data().cell;\n",
       "      cell.output_area.append_execute_result(NB_LOAD_WARNING)\n",
       "    }\n",
       "\n",
       "  }\n",
       "\n",
       "  if (window._bokeh_is_loading === 0) {\n",
       "    console.log(\"Bokeh: BokehJS loaded, going straight to plotting\");\n",
       "    run_inline_js();\n",
       "  } else {\n",
       "    load_libs(js_urls, function() {\n",
       "      console.log(\"Bokeh: BokehJS plotting callback run at\", now());\n",
       "      run_inline_js();\n",
       "    });\n",
       "  }\n",
       "}(this));"
      ]
     },
     "metadata": {},
     "output_type": "display_data"
    }
   ],
   "source": [
    "#import packages\n",
    "import matplotlib.pyplot as plt\n",
    "%matplotlib inline\n",
    "\n",
    "import numpy as np\n",
    "import pandas as pd\n",
    "import seaborn as sns\n",
    "\n",
    "from bokeh.io import output_notebook, show\n",
    "output_notebook()\n"
   ]
  },
  {
   "cell_type": "markdown",
   "metadata": {},
   "source": [
    "## Background"
   ]
  },
  {
   "cell_type": "code",
   "execution_count": 3,
   "metadata": {},
   "outputs": [
    {
     "data": {
      "text/html": [
       "<img src=\"http://2we26u4fam7n16rz3a44uhbe1bq2.wpengine.netdna-cdn.com/wp-content/uploads/050914_1121_2013DataBre5.png\"/>"
      ],
      "text/plain": [
       "<IPython.core.display.Image object>"
      ]
     },
     "execution_count": 3,
     "metadata": {},
     "output_type": "execute_result"
    }
   ],
   "source": [
    "Image(url= \"http://2we26u4fam7n16rz3a44uhbe1bq2.wpengine.netdna-cdn.com/wp-content/uploads/050914_1121_2013DataBre5.png\")"
   ]
  },
  {
   "cell_type": "markdown",
   "metadata": {},
   "source": [
    "## Reasons for Hacking"
   ]
  },
  {
   "cell_type": "code",
   "execution_count": 4,
   "metadata": {},
   "outputs": [
    {
     "data": {
      "text/html": [
       "<img src=\"https://paulsparrows.files.wordpress.com/2013/04/march-2013-motivations.png\"/>"
      ],
      "text/plain": [
       "<IPython.core.display.Image object>"
      ]
     },
     "execution_count": 4,
     "metadata": {},
     "output_type": "execute_result"
    }
   ],
   "source": [
    "Image(url= \"https://paulsparrows.files.wordpress.com/2013/04/march-2013-motivations.png\")"
   ]
  },
  {
   "cell_type": "markdown",
   "metadata": {},
   "source": [
    "As seen above a 50% of all hacking is because of something called hacktivism or hacking in the name of what the hacker believes is \"Just\". Most of what we will deal with in this data set is Cyber-Crime which typically involves a hacker that hacks a business or corporation to steal records or private information. The hacker then typically turns around and sells this information on the Deep Web for bitcoin or cash."
   ]
  },
  {
   "cell_type": "markdown",
   "metadata": {},
   "source": [
    "## DataSet\n",
    "Download the dataset by going to https://docs.google.com/spreadsheets/d/1Je-YUdnhjQJO_13r8iTeRxpU2pBKuV6RVRHoYCgiMfg/edit#gid=322165570 and then download the file as a csv file.\n",
    "More information about the data set and cybersecurity can be found at http://www.informationisbeautiful.net/visualizations/worlds-biggest-data-breaches-hacks/"
   ]
  },
  {
   "cell_type": "markdown",
   "metadata": {},
   "source": [
    "### About the DataSet\n",
    "The data set shows the largest and most well known data breaches since 2004. The data set shows the year the event happened the the number of records stolen and the number lost. The data set also shows the type of data breach and the type of company that it involved. It also displays the level of sensativity for the data. There are some limitations to this dataset however including the lack of type of hack and what time of the year it happened, or who it was performed by. Much of this information is either kept private or just unknown. The user will however be able to get some good information out of this visualization tutorial."
   ]
  },
  {
   "cell_type": "code",
   "execution_count": 5,
   "metadata": {
    "collapsed": true
   },
   "outputs": [],
   "source": [
    "#remove first row from csv file\n",
    "with open(\"Data.csv\",'r') as f:\n",
    "    with open(\"updated_test.csv\",'w') as f1:\n",
    "        f.next() # skip header line\n",
    "        for line in f:\n",
    "            f1.write(line)"
   ]
  },
  {
   "cell_type": "code",
   "execution_count": 6,
   "metadata": {},
   "outputs": [
    {
     "data": {
      "text/html": [
       "<div>\n",
       "<style>\n",
       "    .dataframe thead tr:only-child th {\n",
       "        text-align: right;\n",
       "    }\n",
       "\n",
       "    .dataframe thead th {\n",
       "        text-align: left;\n",
       "    }\n",
       "\n",
       "    .dataframe tbody tr th {\n",
       "        vertical-align: top;\n",
       "    }\n",
       "</style>\n",
       "<table border=\"1\" class=\"dataframe\">\n",
       "  <thead>\n",
       "    <tr style=\"text-align: right;\">\n",
       "      <th></th>\n",
       "      <th>Entity</th>\n",
       "      <th>alternative name</th>\n",
       "      <th>story</th>\n",
       "      <th>YEAR</th>\n",
       "      <th>records lost</th>\n",
       "      <th>ORGANISATION</th>\n",
       "      <th>METHOD OF LEAK</th>\n",
       "      <th>interesting story</th>\n",
       "      <th>NO OF RECORDS STOLEN</th>\n",
       "      <th>DATA SENSITIVITY</th>\n",
       "      <th>UNUSED</th>\n",
       "      <th>UNUSED.1</th>\n",
       "      <th>Exclude</th>\n",
       "      <th>Unnamed: 13</th>\n",
       "      <th>1st source link</th>\n",
       "      <th>2nd source link</th>\n",
       "      <th>3rd source</th>\n",
       "      <th>source name</th>\n",
       "    </tr>\n",
       "  </thead>\n",
       "  <tbody>\n",
       "    <tr>\n",
       "      <th>0</th>\n",
       "      <td>NaN</td>\n",
       "      <td>NaN</td>\n",
       "      <td>Elaboration if there's an interesting story or...</td>\n",
       "      <td>years are encoded (0=2004, 8 = 2012, 9 = 2013,...</td>\n",
       "      <td>(use 3m, 4m, 5m or 10m to approximate unknown ...</td>\n",
       "      <td>NaN</td>\n",
       "      <td>NaN</td>\n",
       "      <td>NaN</td>\n",
       "      <td>(use 3m, 4m, 5m or 10m to approximate unknown ...</td>\n",
       "      <td>1. Just email address/Online information 20 SS...</td>\n",
       "      <td>NaN</td>\n",
       "      <td>NaN</td>\n",
       "      <td>Show this item in the viz?</td>\n",
       "      <td>NaN</td>\n",
       "      <td>NaN</td>\n",
       "      <td>NaN</td>\n",
       "      <td>NaN</td>\n",
       "      <td>NaN</td>\n",
       "    </tr>\n",
       "    <tr>\n",
       "      <th>1</th>\n",
       "      <td>AOL</td>\n",
       "      <td>American Online</td>\n",
       "      <td>A former America Online software engineer stol...</td>\n",
       "      <td>0</td>\n",
       "      <td>92000000</td>\n",
       "      <td>web</td>\n",
       "      <td>inside job</td>\n",
       "      <td>NaN</td>\n",
       "      <td>92000000</td>\n",
       "      <td>1</td>\n",
       "      <td>NaN</td>\n",
       "      <td>NaN</td>\n",
       "      <td>NaN</td>\n",
       "      <td>NaN</td>\n",
       "      <td>http://money.cnn.com/2004/06/23/technology/aol...</td>\n",
       "      <td>http://www.msnbc.msn.com/id/8985989/#.UFcN8RgUwaA</td>\n",
       "      <td>NaN</td>\n",
       "      <td>CNN</td>\n",
       "    </tr>\n",
       "    <tr>\n",
       "      <th>2</th>\n",
       "      <td>Cardsystems Solutions Inc.</td>\n",
       "      <td>Third-party payment processor for Visa, Master...</td>\n",
       "      <td>CardSystems was fingered by MasterCard after i...</td>\n",
       "      <td>1</td>\n",
       "      <td>40000000</td>\n",
       "      <td>financial</td>\n",
       "      <td>hacked</td>\n",
       "      <td>y</td>\n",
       "      <td>40000000</td>\n",
       "      <td>300</td>\n",
       "      <td>NaN</td>\n",
       "      <td>NaN</td>\n",
       "      <td>NaN</td>\n",
       "      <td>NaN</td>\n",
       "      <td>http://www.msnbc.msn.com/id/8260050/ns/technol...</td>\n",
       "      <td>NaN</td>\n",
       "      <td>NaN</td>\n",
       "      <td>MSNBC</td>\n",
       "    </tr>\n",
       "    <tr>\n",
       "      <th>3</th>\n",
       "      <td>Ameritrade Inc.</td>\n",
       "      <td>Computer backup tape containing personal infor...</td>\n",
       "      <td>online broker</td>\n",
       "      <td>1</td>\n",
       "      <td>200000</td>\n",
       "      <td>financial</td>\n",
       "      <td>lost / stolen device or media</td>\n",
       "      <td>NaN</td>\n",
       "      <td>200000</td>\n",
       "      <td>20</td>\n",
       "      <td>NaN</td>\n",
       "      <td>NaN</td>\n",
       "      <td>NaN</td>\n",
       "      <td>NaN</td>\n",
       "      <td>http://www.nbcnews.com/id/7561268/</td>\n",
       "      <td>NaN</td>\n",
       "      <td>NaN</td>\n",
       "      <td>NBC</td>\n",
       "    </tr>\n",
       "    <tr>\n",
       "      <th>4</th>\n",
       "      <td>Citigroup</td>\n",
       "      <td>NaN</td>\n",
       "      <td>Blame the messenger! A box of computer tapes c...</td>\n",
       "      <td>1</td>\n",
       "      <td>3900000</td>\n",
       "      <td>financial</td>\n",
       "      <td>lost / stolen device or media</td>\n",
       "      <td>y</td>\n",
       "      <td>3900000</td>\n",
       "      <td>300</td>\n",
       "      <td>NaN</td>\n",
       "      <td>NaN</td>\n",
       "      <td>NaN</td>\n",
       "      <td>NaN</td>\n",
       "      <td>http://www.nytimes.com/2005/06/07/business/07d...</td>\n",
       "      <td>NaN</td>\n",
       "      <td>NaN</td>\n",
       "      <td>NY Times</td>\n",
       "    </tr>\n",
       "  </tbody>\n",
       "</table>\n",
       "</div>"
      ],
      "text/plain": [
       "                        Entity  \\\n",
       "0                          NaN   \n",
       "1                          AOL   \n",
       "2  Cardsystems Solutions Inc.    \n",
       "3              Ameritrade Inc.   \n",
       "4                    Citigroup   \n",
       "\n",
       "                                    alternative name  \\\n",
       "0                                                NaN   \n",
       "1                                    American Online   \n",
       "2  Third-party payment processor for Visa, Master...   \n",
       "3  Computer backup tape containing personal infor...   \n",
       "4                                                NaN   \n",
       "\n",
       "                                               story  \\\n",
       "0  Elaboration if there's an interesting story or...   \n",
       "1  A former America Online software engineer stol...   \n",
       "2  CardSystems was fingered by MasterCard after i...   \n",
       "3                                      online broker   \n",
       "4  Blame the messenger! A box of computer tapes c...   \n",
       "\n",
       "                                                YEAR  \\\n",
       "0  years are encoded (0=2004, 8 = 2012, 9 = 2013,...   \n",
       "1                                                  0   \n",
       "2                                                  1   \n",
       "3                                                  1   \n",
       "4                                                  1   \n",
       "\n",
       "                                        records lost ORGANISATION  \\\n",
       "0  (use 3m, 4m, 5m or 10m to approximate unknown ...          NaN   \n",
       "1                                           92000000          web   \n",
       "2                                           40000000    financial   \n",
       "3                                             200000    financial   \n",
       "4                                            3900000    financial   \n",
       "\n",
       "                  METHOD OF LEAK interesting story  \\\n",
       "0                            NaN               NaN   \n",
       "1                     inside job               NaN   \n",
       "2                         hacked                 y   \n",
       "3  lost / stolen device or media               NaN   \n",
       "4  lost / stolen device or media                 y   \n",
       "\n",
       "                                NO OF RECORDS STOLEN  \\\n",
       "0  (use 3m, 4m, 5m or 10m to approximate unknown ...   \n",
       "1                                           92000000   \n",
       "2                                           40000000   \n",
       "3                                             200000   \n",
       "4                                            3900000   \n",
       "\n",
       "                                    DATA SENSITIVITY  UNUSED  UNUSED.1  \\\n",
       "0  1. Just email address/Online information 20 SS...     NaN       NaN   \n",
       "1                                                  1     NaN       NaN   \n",
       "2                                                300     NaN       NaN   \n",
       "3                                                 20     NaN       NaN   \n",
       "4                                                300     NaN       NaN   \n",
       "\n",
       "                      Exclude Unnamed: 13  \\\n",
       "0  Show this item in the viz?         NaN   \n",
       "1                         NaN         NaN   \n",
       "2                         NaN         NaN   \n",
       "3                         NaN         NaN   \n",
       "4                         NaN         NaN   \n",
       "\n",
       "                                     1st source link  \\\n",
       "0                                                NaN   \n",
       "1  http://money.cnn.com/2004/06/23/technology/aol...   \n",
       "2  http://www.msnbc.msn.com/id/8260050/ns/technol...   \n",
       "3                 http://www.nbcnews.com/id/7561268/   \n",
       "4  http://www.nytimes.com/2005/06/07/business/07d...   \n",
       "\n",
       "                                     2nd source link 3rd source source name  \n",
       "0                                                NaN        NaN         NaN  \n",
       "1  http://www.msnbc.msn.com/id/8985989/#.UFcN8RgUwaA        NaN         CNN  \n",
       "2                                                NaN        NaN       MSNBC  \n",
       "3                                                NaN        NaN         NBC  \n",
       "4                                                NaN        NaN    NY Times  "
      ]
     },
     "execution_count": 6,
     "metadata": {},
     "output_type": "execute_result"
    }
   ],
   "source": [
    "df = pd.read_csv(\"updated_test.csv\")\n",
    "df.head()\n"
   ]
  },
  {
   "cell_type": "markdown",
   "metadata": {},
   "source": [
    "## Data Prep"
   ]
  },
  {
   "cell_type": "code",
   "execution_count": 7,
   "metadata": {},
   "outputs": [
    {
     "data": {
      "text/html": [
       "<img src=\"https://enterprisersproject.com/sites/default/files/styles/620x350/public/images/CIO%20Crossing%20the%20gap%20to%20big%20data%202.png?itok=GzTevfgC\"/>"
      ],
      "text/plain": [
       "<IPython.core.display.Image object>"
      ]
     },
     "execution_count": 7,
     "metadata": {},
     "output_type": "execute_result"
    }
   ],
   "source": [
    "Image(url= \"https://enterprisersproject.com/sites/default/files/styles/620x350/public/images/CIO%20Crossing%20the%20gap%20to%20big%20data%202.png?itok=GzTevfgC\")"
   ]
  },
  {
   "cell_type": "markdown",
   "metadata": {},
   "source": [
    "#### Data Prep\n",
    "Before we can visualize and analyze the data we must first clean and prep the data. The data set is raw and has many unused columns and null values. To prep the data we must drop or replace null values and drop unused or unnecessary columns. It May also help to cleanup and rename the columns to help better understand the data."
   ]
  },
  {
   "cell_type": "code",
   "execution_count": 8,
   "metadata": {},
   "outputs": [
    {
     "data": {
      "text/html": [
       "<div>\n",
       "<style>\n",
       "    .dataframe thead tr:only-child th {\n",
       "        text-align: right;\n",
       "    }\n",
       "\n",
       "    .dataframe thead th {\n",
       "        text-align: left;\n",
       "    }\n",
       "\n",
       "    .dataframe tbody tr th {\n",
       "        vertical-align: top;\n",
       "    }\n",
       "</style>\n",
       "<table border=\"1\" class=\"dataframe\">\n",
       "  <thead>\n",
       "    <tr style=\"text-align: right;\">\n",
       "      <th></th>\n",
       "      <th>Entity</th>\n",
       "      <th>alternative name</th>\n",
       "      <th>story</th>\n",
       "      <th>YEAR</th>\n",
       "      <th>records lost</th>\n",
       "      <th>ORGANISATION</th>\n",
       "      <th>METHOD OF LEAK</th>\n",
       "      <th>interesting story</th>\n",
       "      <th>NO OF RECORDS STOLEN</th>\n",
       "      <th>DATA SENSITIVITY</th>\n",
       "      <th>UNUSED</th>\n",
       "      <th>UNUSED.1</th>\n",
       "      <th>Exclude</th>\n",
       "      <th>Unnamed: 13</th>\n",
       "      <th>1st source link</th>\n",
       "      <th>2nd source link</th>\n",
       "      <th>3rd source</th>\n",
       "      <th>source name</th>\n",
       "    </tr>\n",
       "  </thead>\n",
       "  <tbody>\n",
       "    <tr>\n",
       "      <th>1</th>\n",
       "      <td>AOL</td>\n",
       "      <td>American Online</td>\n",
       "      <td>A former America Online software engineer stol...</td>\n",
       "      <td>0</td>\n",
       "      <td>92000000</td>\n",
       "      <td>web</td>\n",
       "      <td>inside job</td>\n",
       "      <td>NaN</td>\n",
       "      <td>92000000</td>\n",
       "      <td>1</td>\n",
       "      <td>NaN</td>\n",
       "      <td>NaN</td>\n",
       "      <td>NaN</td>\n",
       "      <td>NaN</td>\n",
       "      <td>http://money.cnn.com/2004/06/23/technology/aol...</td>\n",
       "      <td>http://www.msnbc.msn.com/id/8985989/#.UFcN8RgUwaA</td>\n",
       "      <td>NaN</td>\n",
       "      <td>CNN</td>\n",
       "    </tr>\n",
       "    <tr>\n",
       "      <th>2</th>\n",
       "      <td>Cardsystems Solutions Inc.</td>\n",
       "      <td>Third-party payment processor for Visa, Master...</td>\n",
       "      <td>CardSystems was fingered by MasterCard after i...</td>\n",
       "      <td>1</td>\n",
       "      <td>40000000</td>\n",
       "      <td>financial</td>\n",
       "      <td>hacked</td>\n",
       "      <td>y</td>\n",
       "      <td>40000000</td>\n",
       "      <td>300</td>\n",
       "      <td>NaN</td>\n",
       "      <td>NaN</td>\n",
       "      <td>NaN</td>\n",
       "      <td>NaN</td>\n",
       "      <td>http://www.msnbc.msn.com/id/8260050/ns/technol...</td>\n",
       "      <td>NaN</td>\n",
       "      <td>NaN</td>\n",
       "      <td>MSNBC</td>\n",
       "    </tr>\n",
       "    <tr>\n",
       "      <th>3</th>\n",
       "      <td>Ameritrade Inc.</td>\n",
       "      <td>Computer backup tape containing personal infor...</td>\n",
       "      <td>online broker</td>\n",
       "      <td>1</td>\n",
       "      <td>200000</td>\n",
       "      <td>financial</td>\n",
       "      <td>lost / stolen device or media</td>\n",
       "      <td>NaN</td>\n",
       "      <td>200000</td>\n",
       "      <td>20</td>\n",
       "      <td>NaN</td>\n",
       "      <td>NaN</td>\n",
       "      <td>NaN</td>\n",
       "      <td>NaN</td>\n",
       "      <td>http://www.nbcnews.com/id/7561268/</td>\n",
       "      <td>NaN</td>\n",
       "      <td>NaN</td>\n",
       "      <td>NBC</td>\n",
       "    </tr>\n",
       "    <tr>\n",
       "      <th>4</th>\n",
       "      <td>Citigroup</td>\n",
       "      <td>NaN</td>\n",
       "      <td>Blame the messenger! A box of computer tapes c...</td>\n",
       "      <td>1</td>\n",
       "      <td>3900000</td>\n",
       "      <td>financial</td>\n",
       "      <td>lost / stolen device or media</td>\n",
       "      <td>y</td>\n",
       "      <td>3900000</td>\n",
       "      <td>300</td>\n",
       "      <td>NaN</td>\n",
       "      <td>NaN</td>\n",
       "      <td>NaN</td>\n",
       "      <td>NaN</td>\n",
       "      <td>http://www.nytimes.com/2005/06/07/business/07d...</td>\n",
       "      <td>NaN</td>\n",
       "      <td>NaN</td>\n",
       "      <td>NY Times</td>\n",
       "    </tr>\n",
       "    <tr>\n",
       "      <th>5</th>\n",
       "      <td>Automatic Data Processing</td>\n",
       "      <td>Business outsourcing, payrolls, benefits</td>\n",
       "      <td>NaN</td>\n",
       "      <td>1</td>\n",
       "      <td>125000</td>\n",
       "      <td>financial</td>\n",
       "      <td>poor security</td>\n",
       "      <td>NaN</td>\n",
       "      <td>130000</td>\n",
       "      <td>20</td>\n",
       "      <td>NaN</td>\n",
       "      <td>NaN</td>\n",
       "      <td>NaN</td>\n",
       "      <td>NaN</td>\n",
       "      <td>http://abcnews.go.com/Technology/story?id=2160...</td>\n",
       "      <td>NaN</td>\n",
       "      <td>NaN</td>\n",
       "      <td>ABC</td>\n",
       "    </tr>\n",
       "  </tbody>\n",
       "</table>\n",
       "</div>"
      ],
      "text/plain": [
       "                        Entity  \\\n",
       "1                          AOL   \n",
       "2  Cardsystems Solutions Inc.    \n",
       "3              Ameritrade Inc.   \n",
       "4                    Citigroup   \n",
       "5    Automatic Data Processing   \n",
       "\n",
       "                                    alternative name  \\\n",
       "1                                    American Online   \n",
       "2  Third-party payment processor for Visa, Master...   \n",
       "3  Computer backup tape containing personal infor...   \n",
       "4                                                NaN   \n",
       "5           Business outsourcing, payrolls, benefits   \n",
       "\n",
       "                                               story YEAR records lost  \\\n",
       "1  A former America Online software engineer stol...    0     92000000   \n",
       "2  CardSystems was fingered by MasterCard after i...    1     40000000   \n",
       "3                                      online broker    1       200000   \n",
       "4  Blame the messenger! A box of computer tapes c...    1      3900000   \n",
       "5                                                NaN    1       125000   \n",
       "\n",
       "  ORGANISATION                 METHOD OF LEAK interesting story  \\\n",
       "1          web                     inside job               NaN   \n",
       "2    financial                         hacked                 y   \n",
       "3    financial  lost / stolen device or media               NaN   \n",
       "4    financial  lost / stolen device or media                 y   \n",
       "5    financial                  poor security               NaN   \n",
       "\n",
       "  NO OF RECORDS STOLEN DATA SENSITIVITY  UNUSED  UNUSED.1 Exclude Unnamed: 13  \\\n",
       "1             92000000                1     NaN       NaN     NaN         NaN   \n",
       "2             40000000              300     NaN       NaN     NaN         NaN   \n",
       "3               200000               20     NaN       NaN     NaN         NaN   \n",
       "4              3900000              300     NaN       NaN     NaN         NaN   \n",
       "5               130000               20     NaN       NaN     NaN         NaN   \n",
       "\n",
       "                                     1st source link  \\\n",
       "1  http://money.cnn.com/2004/06/23/technology/aol...   \n",
       "2  http://www.msnbc.msn.com/id/8260050/ns/technol...   \n",
       "3                 http://www.nbcnews.com/id/7561268/   \n",
       "4  http://www.nytimes.com/2005/06/07/business/07d...   \n",
       "5  http://abcnews.go.com/Technology/story?id=2160...   \n",
       "\n",
       "                                     2nd source link 3rd source source name  \n",
       "1  http://www.msnbc.msn.com/id/8985989/#.UFcN8RgUwaA        NaN         CNN  \n",
       "2                                                NaN        NaN       MSNBC  \n",
       "3                                                NaN        NaN         NBC  \n",
       "4                                                NaN        NaN    NY Times  \n",
       "5                                                NaN        NaN         ABC  "
      ]
     },
     "execution_count": 8,
     "metadata": {},
     "output_type": "execute_result"
    }
   ],
   "source": [
    "#drop first explinationn row\n",
    "df = df.drop(df.index[0])\n",
    "df.head()"
   ]
  },
  {
   "cell_type": "code",
   "execution_count": 9,
   "metadata": {},
   "outputs": [
    {
     "data": {
      "text/html": [
       "<div>\n",
       "<style>\n",
       "    .dataframe thead tr:only-child th {\n",
       "        text-align: right;\n",
       "    }\n",
       "\n",
       "    .dataframe thead th {\n",
       "        text-align: left;\n",
       "    }\n",
       "\n",
       "    .dataframe tbody tr th {\n",
       "        vertical-align: top;\n",
       "    }\n",
       "</style>\n",
       "<table border=\"1\" class=\"dataframe\">\n",
       "  <thead>\n",
       "    <tr style=\"text-align: right;\">\n",
       "      <th></th>\n",
       "      <th>Entity</th>\n",
       "      <th>YEAR</th>\n",
       "      <th>records lost</th>\n",
       "      <th>ORGANISATION</th>\n",
       "      <th>METHOD OF LEAK</th>\n",
       "      <th>NO OF RECORDS STOLEN</th>\n",
       "      <th>DATA SENSITIVITY</th>\n",
       "    </tr>\n",
       "  </thead>\n",
       "  <tbody>\n",
       "    <tr>\n",
       "      <th>1</th>\n",
       "      <td>AOL</td>\n",
       "      <td>0</td>\n",
       "      <td>92000000</td>\n",
       "      <td>web</td>\n",
       "      <td>inside job</td>\n",
       "      <td>92000000</td>\n",
       "      <td>1</td>\n",
       "    </tr>\n",
       "    <tr>\n",
       "      <th>2</th>\n",
       "      <td>Cardsystems Solutions Inc.</td>\n",
       "      <td>1</td>\n",
       "      <td>40000000</td>\n",
       "      <td>financial</td>\n",
       "      <td>hacked</td>\n",
       "      <td>40000000</td>\n",
       "      <td>300</td>\n",
       "    </tr>\n",
       "    <tr>\n",
       "      <th>3</th>\n",
       "      <td>Ameritrade Inc.</td>\n",
       "      <td>1</td>\n",
       "      <td>200000</td>\n",
       "      <td>financial</td>\n",
       "      <td>lost / stolen device or media</td>\n",
       "      <td>200000</td>\n",
       "      <td>20</td>\n",
       "    </tr>\n",
       "    <tr>\n",
       "      <th>4</th>\n",
       "      <td>Citigroup</td>\n",
       "      <td>1</td>\n",
       "      <td>3900000</td>\n",
       "      <td>financial</td>\n",
       "      <td>lost / stolen device or media</td>\n",
       "      <td>3900000</td>\n",
       "      <td>300</td>\n",
       "    </tr>\n",
       "    <tr>\n",
       "      <th>5</th>\n",
       "      <td>Automatic Data Processing</td>\n",
       "      <td>1</td>\n",
       "      <td>125000</td>\n",
       "      <td>financial</td>\n",
       "      <td>poor security</td>\n",
       "      <td>130000</td>\n",
       "      <td>20</td>\n",
       "    </tr>\n",
       "  </tbody>\n",
       "</table>\n",
       "</div>"
      ],
      "text/plain": [
       "                        Entity YEAR records lost ORGANISATION  \\\n",
       "1                          AOL    0     92000000          web   \n",
       "2  Cardsystems Solutions Inc.     1     40000000    financial   \n",
       "3              Ameritrade Inc.    1       200000    financial   \n",
       "4                    Citigroup    1      3900000    financial   \n",
       "5    Automatic Data Processing    1       125000    financial   \n",
       "\n",
       "                  METHOD OF LEAK NO OF RECORDS STOLEN DATA SENSITIVITY  \n",
       "1                     inside job             92000000                1  \n",
       "2                         hacked             40000000              300  \n",
       "3  lost / stolen device or media               200000               20  \n",
       "4  lost / stolen device or media              3900000              300  \n",
       "5                  poor security               130000               20  "
      ]
     },
     "execution_count": 9,
     "metadata": {},
     "output_type": "execute_result"
    }
   ],
   "source": [
    "#drop unnecessary cloumns\n",
    "df = df.drop(['interesting story', 'alternative name', 'story', '1st source link', 'UNUSED', 'UNUSED.1','Exclude','Unnamed: 13', '1st source link', '2nd source link', '3rd source', 'source name' ], axis=1)\n",
    "df.head()"
   ]
  },
  {
   "cell_type": "code",
   "execution_count": 10,
   "metadata": {},
   "outputs": [
    {
     "data": {
      "text/html": [
       "<div>\n",
       "<style>\n",
       "    .dataframe thead tr:only-child th {\n",
       "        text-align: right;\n",
       "    }\n",
       "\n",
       "    .dataframe thead th {\n",
       "        text-align: left;\n",
       "    }\n",
       "\n",
       "    .dataframe tbody tr th {\n",
       "        vertical-align: top;\n",
       "    }\n",
       "</style>\n",
       "<table border=\"1\" class=\"dataframe\">\n",
       "  <thead>\n",
       "    <tr style=\"text-align: right;\">\n",
       "      <th></th>\n",
       "      <th>COMPANY</th>\n",
       "      <th>YEAR</th>\n",
       "      <th>RECORDS_LOST</th>\n",
       "      <th>COMPANY_TYPE</th>\n",
       "      <th>METHOD_OF_LEAK</th>\n",
       "      <th>NO OF RECORDS STOLEN</th>\n",
       "      <th>DATA SENSITIVITY</th>\n",
       "    </tr>\n",
       "  </thead>\n",
       "  <tbody>\n",
       "    <tr>\n",
       "      <th>1</th>\n",
       "      <td>AOL</td>\n",
       "      <td>0</td>\n",
       "      <td>92000000</td>\n",
       "      <td>web</td>\n",
       "      <td>inside job</td>\n",
       "      <td>92000000</td>\n",
       "      <td>1</td>\n",
       "    </tr>\n",
       "    <tr>\n",
       "      <th>2</th>\n",
       "      <td>Cardsystems Solutions Inc.</td>\n",
       "      <td>1</td>\n",
       "      <td>40000000</td>\n",
       "      <td>financial</td>\n",
       "      <td>hacked</td>\n",
       "      <td>40000000</td>\n",
       "      <td>300</td>\n",
       "    </tr>\n",
       "    <tr>\n",
       "      <th>3</th>\n",
       "      <td>Ameritrade Inc.</td>\n",
       "      <td>1</td>\n",
       "      <td>200000</td>\n",
       "      <td>financial</td>\n",
       "      <td>lost / stolen device or media</td>\n",
       "      <td>200000</td>\n",
       "      <td>20</td>\n",
       "    </tr>\n",
       "    <tr>\n",
       "      <th>4</th>\n",
       "      <td>Citigroup</td>\n",
       "      <td>1</td>\n",
       "      <td>3900000</td>\n",
       "      <td>financial</td>\n",
       "      <td>lost / stolen device or media</td>\n",
       "      <td>3900000</td>\n",
       "      <td>300</td>\n",
       "    </tr>\n",
       "    <tr>\n",
       "      <th>5</th>\n",
       "      <td>Automatic Data Processing</td>\n",
       "      <td>1</td>\n",
       "      <td>125000</td>\n",
       "      <td>financial</td>\n",
       "      <td>poor security</td>\n",
       "      <td>130000</td>\n",
       "      <td>20</td>\n",
       "    </tr>\n",
       "  </tbody>\n",
       "</table>\n",
       "</div>"
      ],
      "text/plain": [
       "                       COMPANY YEAR RECORDS_LOST COMPANY_TYPE  \\\n",
       "1                          AOL    0     92000000          web   \n",
       "2  Cardsystems Solutions Inc.     1     40000000    financial   \n",
       "3              Ameritrade Inc.    1       200000    financial   \n",
       "4                    Citigroup    1      3900000    financial   \n",
       "5    Automatic Data Processing    1       125000    financial   \n",
       "\n",
       "                  METHOD_OF_LEAK NO OF RECORDS STOLEN DATA SENSITIVITY  \n",
       "1                     inside job             92000000                1  \n",
       "2                         hacked             40000000              300  \n",
       "3  lost / stolen device or media               200000               20  \n",
       "4  lost / stolen device or media              3900000              300  \n",
       "5                  poor security               130000               20  "
      ]
     },
     "execution_count": 10,
     "metadata": {},
     "output_type": "execute_result"
    }
   ],
   "source": [
    "# Clean up Columns Titles\n",
    "df = df.rename(columns={'Entity': 'COMPANY', 'records lost': 'RECORDS_LOST', 'ORGANISATION': 'COMPANY_TYPE', 'METHOD OF LEAK': 'METHOD_OF_LEAK'})\n",
    "df.head()"
   ]
  },
  {
   "cell_type": "markdown",
   "metadata": {},
   "source": [
    "### Data Types\n",
    "We need to convert the year column to the correct year. To do this use the replace code to replace all year values to the correct year. We also need to ensure that the data types are in the correct form."
   ]
  },
  {
   "cell_type": "code",
   "execution_count": 11,
   "metadata": {
    "collapsed": true
   },
   "outputs": [],
   "source": [
    "#Rename Years to correct years 0 = 2004, 1 = 2005..... However 13 & 14 =2017\n",
    "\n",
    "df['YEAR'].replace(\"0\", 2004,inplace=True)\n",
    "df['YEAR'].replace(\"1\", 2005,inplace=True)\n",
    "df['YEAR'].replace(\"2\", 2006,inplace=True)\n",
    "df['YEAR'].replace(\"3\", 2007,inplace=True)\n",
    "df['YEAR'].replace(\"4\", 2008,inplace=True)\n",
    "df['YEAR'].replace(\"5\", 2009,inplace=True)\n",
    "df['YEAR'].replace(\"6\", 2010,inplace=True)\n",
    "df['YEAR'].replace(\"7\", 2011,inplace=True)\n",
    "df['YEAR'].replace(\"8\", 2012,inplace=True)\n",
    "df['YEAR'].replace(\"9\", 2013,inplace=True)\n",
    "df['YEAR'].replace(\"10\", 2014,inplace=True)\n",
    "df['YEAR'].replace(\"11\", 2015,inplace=True)\n",
    "df['YEAR'].replace(\"12\", 2016,inplace=True)\n",
    "df['YEAR'].replace(\"13\", 2017,inplace=True)\n",
    "df['YEAR'].replace(\"14\", 2017,inplace=True)\n",
    "\n",
    "\n"
   ]
  },
  {
   "cell_type": "code",
   "execution_count": 12,
   "metadata": {
    "scrolled": true
   },
   "outputs": [
    {
     "name": "stdout",
     "output_type": "stream",
     "text": [
      "<class 'pandas.core.frame.DataFrame'>\n",
      "Int64Index: 261 entries, 1 to 261\n",
      "Data columns (total 7 columns):\n",
      "COMPANY                 261 non-null object\n",
      "YEAR                    261 non-null int64\n",
      "RECORDS_LOST            259 non-null object\n",
      "COMPANY_TYPE            261 non-null object\n",
      "METHOD_OF_LEAK          261 non-null object\n",
      "NO OF RECORDS STOLEN    261 non-null object\n",
      "DATA SENSITIVITY        261 non-null object\n",
      "dtypes: int64(1), object(6)\n",
      "memory usage: 16.3+ KB\n"
     ]
    }
   ],
   "source": [
    "#Check for data types\n",
    "df.info()"
   ]
  },
  {
   "cell_type": "code",
   "execution_count": 13,
   "metadata": {
    "scrolled": true
   },
   "outputs": [
    {
     "data": {
      "text/plain": [
       "COMPANY                 0\n",
       "YEAR                    0\n",
       "RECORDS_LOST            2\n",
       "COMPANY_TYPE            0\n",
       "METHOD_OF_LEAK          0\n",
       "NO OF RECORDS STOLEN    0\n",
       "DATA SENSITIVITY        0\n",
       "dtype: int64"
      ]
     },
     "execution_count": 13,
     "metadata": {},
     "output_type": "execute_result"
    }
   ],
   "source": [
    "#check for  null values\n",
    "df.isnull().sum()\n"
   ]
  },
  {
   "cell_type": "code",
   "execution_count": 14,
   "metadata": {
    "scrolled": true
   },
   "outputs": [
    {
     "name": "stdout",
     "output_type": "stream",
     "text": [
      "<class 'pandas.core.frame.DataFrame'>\n",
      "Int64Index: 259 entries, 1 to 261\n",
      "Data columns (total 7 columns):\n",
      "COMPANY                 259 non-null object\n",
      "YEAR                    259 non-null int64\n",
      "RECORDS_LOST            259 non-null object\n",
      "COMPANY_TYPE            259 non-null object\n",
      "METHOD_OF_LEAK          259 non-null object\n",
      "NO OF RECORDS STOLEN    259 non-null object\n",
      "DATA SENSITIVITY        259 non-null object\n",
      "dtypes: int64(1), object(6)\n",
      "memory usage: 16.2+ KB\n"
     ]
    }
   ],
   "source": [
    "#Remove null values\n",
    "df = df.dropna()\n",
    "df.info()"
   ]
  },
  {
   "cell_type": "code",
   "execution_count": 15,
   "metadata": {
    "scrolled": true
   },
   "outputs": [
    {
     "name": "stderr",
     "output_type": "stream",
     "text": [
      "C:\\Users\\zachr\\Anaconda2\\lib\\site-packages\\ipykernel_launcher.py:2: FutureWarning: convert_objects is deprecated.  Use the data-type specific converters pd.to_datetime, pd.to_timedelta and pd.to_numeric.\n",
      "  \n"
     ]
    }
   ],
   "source": [
    "#Convert Strings to integers\n",
    "df = df.convert_objects(convert_numeric=True)"
   ]
  },
  {
   "cell_type": "code",
   "execution_count": 16,
   "metadata": {},
   "outputs": [
    {
     "name": "stdout",
     "output_type": "stream",
     "text": [
      "<class 'pandas.core.frame.DataFrame'>\n",
      "Int64Index: 259 entries, 1 to 261\n",
      "Data columns (total 7 columns):\n",
      "COMPANY                 259 non-null object\n",
      "YEAR                    259 non-null int64\n",
      "RECORDS_LOST            259 non-null int64\n",
      "COMPANY_TYPE            259 non-null object\n",
      "METHOD_OF_LEAK          259 non-null object\n",
      "NO OF RECORDS STOLEN    259 non-null int64\n",
      "DATA SENSITIVITY        259 non-null int64\n",
      "dtypes: int64(4), object(3)\n",
      "memory usage: 16.2+ KB\n"
     ]
    }
   ],
   "source": [
    "#check data types\n",
    "df.info()"
   ]
  },
  {
   "cell_type": "markdown",
   "metadata": {
    "collapsed": true
   },
   "source": [
    "## Visualize the data"
   ]
  },
  {
   "cell_type": "code",
   "execution_count": 17,
   "metadata": {},
   "outputs": [
    {
     "data": {
      "text/html": [
       "<img src=\"https://www.sas.com/en_us/insights/big-data/data-visualization/_jcr_content/socialShareImage.img.png\"/>"
      ],
      "text/plain": [
       "<IPython.core.display.Image object>"
      ]
     },
     "execution_count": 17,
     "metadata": {},
     "output_type": "execute_result"
    }
   ],
   "source": [
    "Image(url= \"https://www.sas.com/en_us/insights/big-data/data-visualization/_jcr_content/socialShareImage.img.png\")"
   ]
  },
  {
   "cell_type": "markdown",
   "metadata": {},
   "source": [
    "### Histograms\n",
    "The following show the number of data breaches since 2004. It has climbed every year until 2013 to 2015 it lagged. In 2017 however it has picked back up again."
   ]
  },
  {
   "cell_type": "code",
   "execution_count": 18,
   "metadata": {},
   "outputs": [
    {
     "data": {
      "text/plain": [
       "<matplotlib.legend.Legend at 0xd460ac8>"
      ]
     },
     "execution_count": 18,
     "metadata": {},
     "output_type": "execute_result"
    },
    {
     "data": {
      "image/png": "[encoded data removed]",
      "text/plain": [
       "<matplotlib.figure.Figure at 0xd4609e8>"
      ]
     },
     "metadata": {},
     "output_type": "display_data"
    }
   ],
   "source": [
    "#Histogram of hacks per year\n",
    "plt.hist(df['YEAR'], label=\"Number of Breaches\")\n",
    "plt.xlabel('Year')\n",
    "plt.title('Data Breach / Year')\n",
    "plt.legend()"
   ]
  },
  {
   "cell_type": "markdown",
   "metadata": {},
   "source": [
    "### Basic Bar Charts and pie Charts\n",
    "The following charts give a basic visual representation of the number of different company types that were affected by data breaches and the number of each type of data breaches."
   ]
  },
  {
   "cell_type": "code",
   "execution_count": 19,
   "metadata": {},
   "outputs": [
    {
     "data": {
      "text/plain": [
       "<matplotlib.text.Text at 0xa28c780>"
      ]
     },
     "execution_count": 19,
     "metadata": {},
     "output_type": "execute_result"
    },
    {
     "data": {
      "image/png": "[encoded data removed]",
      "text/plain": [
       "<matplotlib.figure.Figure at 0xd3b2860>"
      ]
     },
     "metadata": {},
     "output_type": "display_data"
    }
   ],
   "source": [
    "df.COMPANY_TYPE.value_counts().plot(kind='barh')\n",
    "plt.title('Number of appearances in dataset')\n",
    "plt.xlabel('Frequency')"
   ]
  },
  {
   "cell_type": "code",
   "execution_count": 20,
   "metadata": {},
   "outputs": [
    {
     "data": {
      "text/plain": [
       "<matplotlib.text.Text at 0xd735748>"
      ]
     },
     "execution_count": 20,
     "metadata": {},
     "output_type": "execute_result"
    },
    {
     "data": {
      "image/png": "[encoded data removed]",
      "text/plain": [
       "<matplotlib.figure.Figure at 0xd1e52e8>"
      ]
     },
     "metadata": {},
     "output_type": "display_data"
    }
   ],
   "source": [
    "df.COMPANY_TYPE.value_counts().plot(kind='pie')\n",
    "plt.axis('equal')\n",
    "plt.title('Number of appearances in dataset')"
   ]
  },
  {
   "cell_type": "code",
   "execution_count": 21,
   "metadata": {},
   "outputs": [
    {
     "data": {
      "text/plain": [
       "<matplotlib.text.Text at 0xd5b6d30>"
      ]
     },
     "execution_count": 21,
     "metadata": {},
     "output_type": "execute_result"
    },
    {
     "data": {
      "image/png": "[encoded data removed]",
      "text/plain": [
       "<matplotlib.figure.Figure at 0xd5d7e10>"
      ]
     },
     "metadata": {},
     "output_type": "display_data"
    }
   ],
   "source": [
    "df.METHOD_OF_LEAK.value_counts().plot(kind='barh')\n",
    "plt.title('Number of appearances in dataset')\n",
    "plt.xlabel('Frequency')"
   ]
  },
  {
   "cell_type": "code",
   "execution_count": 22,
   "metadata": {},
   "outputs": [
    {
     "data": {
      "text/plain": [
       "<matplotlib.text.Text at 0xdd94c88>"
      ]
     },
     "execution_count": 22,
     "metadata": {},
     "output_type": "execute_result"
    },
    {
     "data": {
      "image/png": "[encoded data removed]",
      "text/plain": [
       "<matplotlib.figure.Figure at 0xd1e5898>"
      ]
     },
     "metadata": {},
     "output_type": "display_data"
    }
   ],
   "source": [
    "df.METHOD_OF_LEAK.value_counts().plot(kind='pie')\n",
    "plt.axis('equal')\n",
    "plt.title('Number of appearances in dataset')"
   ]
  },
  {
   "cell_type": "markdown",
   "metadata": {},
   "source": [
    "After seeing these graphs it is clear that the companies that are most vulnerable to attack are web based companies, and the most common type of data breach is a hack. The web based companies could be expected due to the fact that theyre data may be easier to hack, but the government being the second most may have something to do with the hacktivism mentioned above"
   ]
  },
  {
   "cell_type": "markdown",
   "metadata": {},
   "source": [
    "### Scattered Plots\n",
    "The scattered plots below show the number of records lost from 2004 to 2017."
   ]
  },
  {
   "cell_type": "code",
   "execution_count": 23,
   "metadata": {},
   "outputs": [
    {
     "data": {
      "text/plain": [
       "<seaborn.axisgrid.FacetGrid at 0xdc05748>"
      ]
     },
     "execution_count": 23,
     "metadata": {},
     "output_type": "execute_result"
    },
    {
     "data": {
      "image/png": "[encoded data removed]",
      "text/plain": [
       "<matplotlib.figure.Figure at 0xdd769e8>"
      ]
     },
     "metadata": {},
     "output_type": "display_data"
    }
   ],
   "source": [
    "sns.lmplot('YEAR', 'RECORDS_LOST', data=df, fit_reg=True)"
   ]
  },
  {
   "cell_type": "code",
   "execution_count": 24,
   "metadata": {
    "collapsed": true
   },
   "outputs": [],
   "source": [
    "\n",
    "# prepare some data\n",
    "x = df['YEAR']\n",
    "y = df['RECORDS_LOST']"
   ]
  },
  {
   "cell_type": "code",
   "execution_count": 25,
   "metadata": {},
   "outputs": [
    {
     "data": {
      "text/html": [
       "\n",
       "\n",
       "    <div class=\"bk-root\">\n",
       "        <div class=\"bk-plotdiv\" id=\"92c7c243-dfa4-478b-b36e-28ab56efda41\"></div>\n",
       "    </div>\n",
       "<script type=\"text/javascript\">\n",
       "  \n",
       "  (function(global) {\n",
       "    function now() {\n",
       "      return new Date();\n",
       "    }\n",
       "  \n",
       "    var force = false;\n",
       "  \n",
       "    if (typeof (window._bokeh_onload_callbacks) === \"undefined\" || force === true) {\n",
       "      window._bokeh_onload_callbacks = [];\n",
       "      window._bokeh_is_loading = undefined;\n",
       "    }\n",
       "  \n",
       "  \n",
       "    \n",
       "    if (typeof (window._bokeh_timeout) === \"undefined\" || force === true) {\n",
       "      window._bokeh_timeout = Date.now() + 0;\n",
       "      window._bokeh_failed_load = false;\n",
       "    }\n",
       "  \n",
       "    var NB_LOAD_WARNING = {'data': {'text/html':\n",
       "       \"<div style='background-color: #fdd'>\\n\"+\n",
       "       \"<p>\\n\"+\n",
       "       \"BokehJS does not appear to have successfully loaded. If loading BokehJS from CDN, this \\n\"+\n",
       "       \"may be due to a slow or bad network connection. Possible fixes:\\n\"+\n",
       "       \"</p>\\n\"+\n",
       "       \"<ul>\\n\"+\n",
       "       \"<li>re-rerun `output_notebook()` to attempt to load from CDN again, or</li>\\n\"+\n",
       "       \"<li>use INLINE resources instead, as so:</li>\\n\"+\n",
       "       \"</ul>\\n\"+\n",
       "       \"<code>\\n\"+\n",
       "       \"from bokeh.resources import INLINE\\n\"+\n",
       "       \"output_notebook(resources=INLINE)\\n\"+\n",
       "       \"</code>\\n\"+\n",
       "       \"</div>\"}};\n",
       "  \n",
       "    function display_loaded() {\n",
       "      if (window.Bokeh !== undefined) {\n",
       "        var el = document.getElementById(\"92c7c243-dfa4-478b-b36e-28ab56efda41\");\n",
       "        el.textContent = \"BokehJS \" + Bokeh.version + \" successfully loaded.\";\n",
       "      } else if (Date.now() < window._bokeh_timeout) {\n",
       "        setTimeout(display_loaded, 100)\n",
       "      }\n",
       "    }\n",
       "  \n",
       "    function run_callbacks() {\n",
       "      window._bokeh_onload_callbacks.forEach(function(callback) { callback() });\n",
       "      delete window._bokeh_onload_callbacks\n",
       "      console.info(\"Bokeh: all callbacks have finished\");\n",
       "    }\n",
       "  \n",
       "    function load_libs(js_urls, callback) {\n",
       "      window._bokeh_onload_callbacks.push(callback);\n",
       "      if (window._bokeh_is_loading > 0) {\n",
       "        console.log(\"Bokeh: BokehJS is being loaded, scheduling callback at\", now());\n",
       "        return null;\n",
       "      }\n",
       "      if (js_urls == null || js_urls.length === 0) {\n",
       "        run_callbacks();\n",
       "        return null;\n",
       "      }\n",
       "      console.log(\"Bokeh: BokehJS not loaded, scheduling load and callback at\", now());\n",
       "      window._bokeh_is_loading = js_urls.length;\n",
       "      for (var i = 0; i < js_urls.length; i++) {\n",
       "        var url = js_urls[i];\n",
       "        var s = document.createElement('script');\n",
       "        s.src = url;\n",
       "        s.async = false;\n",
       "        s.onreadystatechange = s.onload = function() {\n",
       "          window._bokeh_is_loading--;\n",
       "          if (window._bokeh_is_loading === 0) {\n",
       "            console.log(\"Bokeh: all BokehJS libraries loaded\");\n",
       "            run_callbacks()\n",
       "          }\n",
       "        };\n",
       "        s.onerror = function() {\n",
       "          console.warn(\"failed to load library \" + url);\n",
       "        };\n",
       "        console.log(\"Bokeh: injecting script tag for BokehJS library: \", url);\n",
       "        document.getElementsByTagName(\"head\")[0].appendChild(s);\n",
       "      }\n",
       "    };var element = document.getElementById(\"92c7c243-dfa4-478b-b36e-28ab56efda41\");\n",
       "    if (element == null) {\n",
       "      console.log(\"Bokeh: ERROR: autoload.js configured with elementid '92c7c243-dfa4-478b-b36e-28ab56efda41' but no matching script tag was found. \")\n",
       "      return false;\n",
       "    }\n",
       "  \n",
       "    var js_urls = [];\n",
       "  \n",
       "    var inline_js = [\n",
       "      function(Bokeh) {\n",
       "        (function() {\n",
       "          var fn = function() {\n",
       "            var docs_json = {\"3f2a4976-5202-4a73-8bfc-6d08295882fa\":{\"roots\":{\"references\":[{\"attributes\":{},\"id\":\"9e166e23-9863-4bc9-b4bc-42ecd84047c5\",\"type\":\"BasicTicker\"},{\"attributes\":{},\"id\":\"62b99c83-6241-4732-b2d0-21c6f45d855b\",\"type\":\"BasicTicker\"},{\"attributes\":{\"plot\":{\"id\":\"ea6a2f27-16c7-4cc2-8397-a690a13bc637\",\"subtype\":\"Figure\",\"type\":\"Plot\"}},\"id\":\"bdd8a3b6-6550-4a43-bf76-dd6ad6338747\",\"type\":\"HelpTool\"},{\"attributes\":{},\"id\":\"e3e850a4-3e3f-499a-a274-d11c797c91f4\",\"type\":\"BasicTickFormatter\"},{\"attributes\":{\"plot\":{\"id\":\"ea6a2f27-16c7-4cc2-8397-a690a13bc637\",\"subtype\":\"Figure\",\"type\":\"Plot\"}},\"id\":\"626ca012-52dd-4804-bebb-d3e672e2b444\",\"type\":\"PanTool\"},{\"attributes\":{\"plot\":{\"id\":\"ea6a2f27-16c7-4cc2-8397-a690a13bc637\",\"subtype\":\"Figure\",\"type\":\"Plot\"}},\"id\":\"9b18275a-d47c-4156-b2a6-26bc9d6ba674\",\"type\":\"SaveTool\"},{\"attributes\":{\"fill_alpha\":{\"value\":0.1},\"fill_color\":{\"value\":\"#1f77b4\"},\"line_alpha\":{\"value\":0.1},\"line_color\":{\"value\":\"#1f77b4\"},\"size\":{\"units\":\"screen\",\"value\":8},\"x\":{\"field\":\"x\"},\"y\":{\"field\":\"y\"}},\"id\":\"4219d025-338d-46ee-9330-c78600cf3f97\",\"type\":\"Circle\"},{\"attributes\":{\"data_source\":{\"id\":\"e1f46d57-05b0-4f9d-acab-72dadbb7e096\",\"type\":\"ColumnDataSource\"},\"glyph\":{\"id\":\"104af8c9-136f-47c5-a328-9bb896a631a7\",\"type\":\"Circle\"},\"hover_glyph\":null,\"muted_glyph\":null,\"nonselection_glyph\":{\"id\":\"4219d025-338d-46ee-9330-c78600cf3f97\",\"type\":\"Circle\"},\"selection_glyph\":null},\"id\":\"921496aa-9edf-4e41-badf-2cb9a8a27541\",\"type\":\"GlyphRenderer\"},{\"attributes\":{\"overlay\":{\"id\":\"db032087-df3e-4304-b4bf-d8b4908c6f96\",\"type\":\"BoxAnnotation\"},\"plot\":{\"id\":\"ea6a2f27-16c7-4cc2-8397-a690a13bc637\",\"subtype\":\"Figure\",\"type\":\"Plot\"}},\"id\":\"547133d6-e41f-4a7b-b31e-6208d81fbfcf\",\"type\":\"BoxZoomTool\"},{\"attributes\":{\"callback\":null,\"column_names\":[\"y\",\"x\"],\"data\":{\"x\":[2004,2005,2005,2005,2005,2006,2006,2006,2006,2006,2006,2007,2007,2007,2007,2007,2007,2007,2007,2007,2007,2007,2007,2007,2008,2008,2008,2008,2008,2008,2008,2008,2008,2008,2008,2008,2008,2008,2008,2008,2009,2009,2009,2009,2009,2009,2009,2009,2009,2009,2009,2009,2009,2009,2010,2010,2010,2010,2010,2010,2010,2010,2010,2010,2010,2010,2010,2010,2010,2010,2010,2010,2010,2010,2011,2011,2011,2011,2011,2011,2011,2011,2011,2011,2011,2011,2011,2011,2011,2011,2011,2011,2011,2011,2011,2011,2011,2011,2011,2011,2011,2011,2011,2011,2011,2011,2011,2011,2011,2011,2012,2012,2012,2012,2012,2012,2012,2012,2012,2012,2012,2012,2012,2012,2012,2012,2012,2012,2012,2012,2012,2012,2012,2012,2012,2012,2013,2013,2013,2013,2013,2013,2013,2013,2013,2013,2013,2013,2013,2013,2013,2013,2013,2013,2013,2013,2013,2013,2013,2013,2013,2013,2013,2013,2013,2014,2014,2014,2014,2014,2014,2014,2014,2014,2014,2014,2014,2014,2014,2014,2014,2014,2014,2014,2014,2014,2014,2014,2015,2015,2015,2015,2015,2015,2015,2015,2015,2015,2015,2015,2015,2015,2015,2015,2015,2015,2015,2015,2015,2015,2016,2016,2016,2016,2016,2016,2016,2016,2016,2016,2016,2016,2016,2016,2016,2016,2016,2017,2017,2017,2017,2017,2017,2017,2017,2017,2017,2017,2017,2017,2017,2017,2017,2017,2017,2017,2017,2017,2017,2017,2017,2017,2017,2017,2017,2017,2017,2017,2017],\"y\":[92000000,40000000,200000,3900000,125000,20000000,4000000,2600000,200000,17000000,26500000,1600000,4200000,6300000,94000000,89000,1000000,8500000,8637405,160000,800000,3000000,3000000,25000000,1600000,3950000,1500000,5000000,6000000,18000000,11100000,50500,72000,84000,113000,97000,1700000,2100000,2200000,12500000,160000,531400,573000,5000000,8257378,32000000,130000000,72000,131000,344579,1023209,1220000,1500000,76000000,43000,114000,156000,231400,400000,515000,760000,1500000,2300000,251000,260000,392000,105470,130495,180111,398000,800000,1700000,2600000,3300000,50000,3500000,62000,73000,123461,180000,200000,200000,3000000,210000,300000,283000,360083,935000,1000000,1000000,1290755,1270000,6000000,10000000,13200000,24600000,28000000,35000000,77000000,2500000,34000,102153,400000,514330,1055489,1900000,4243434,4901432,8300000,175350,6500000,12367232,30000,163792,420000,450000,780000,7000000,3000000,8000000,8000000,8700000,9000000,14000000,24000000,43500000,68700000,160000000,117000000,3600000,6400000,1800000,200000000,315000,800000,17500000,150000,170000,1460000,6000000,110000,125000,160000,240000,275000,500000,1000000,2000000,4000000,4700000,22000000,36000000,50000000,50000000,1000000000,65000000,250000,1500000,1700000,2000000,100000,100000,100000,4000000,146000,500000,600000,750000,860000,1000000,1100000,1160000,4000000,4000000,4500000,5000000,10000000,10000000,2400000,56000000,70000000,76000000,145000000,500000000,2700000,20000000,52000,76000,500000,40000,100000,157000,400000,500000,500000,500000,1100000,2700000,3900000,4000000,6400000,11000000,13000000,15000000,21500000,37000000,70000000,50000,3300000,198000000,5190396,274477,7000000,11500000,25000000,40000000,49611709,55000000,80000000,100544934,1025,164000000,2000000,35000,3700000,112000,2200000,550000,1370000000,34000,200000,270000,300000,700000,790724,1700000,1900000,3000000,5000000,6600000,9500000,10000000,17000000,32000000,43000000,85200000,412000000,15000000,3700000,2000000,6000000,143000000,1500000,1500000,1000000,3000000,711000000,540000,3000000]}},\"id\":\"e1f46d57-05b0-4f9d-acab-72dadbb7e096\",\"type\":\"ColumnDataSource\"},{\"attributes\":{\"active_drag\":\"auto\",\"active_scroll\":\"auto\",\"active_tap\":\"auto\",\"tools\":[{\"id\":\"626ca012-52dd-4804-bebb-d3e672e2b444\",\"type\":\"PanTool\"},{\"id\":\"6b551f63-24b6-4ed0-8a24-48468bf93c76\",\"type\":\"WheelZoomTool\"},{\"id\":\"547133d6-e41f-4a7b-b31e-6208d81fbfcf\",\"type\":\"BoxZoomTool\"},{\"id\":\"9b18275a-d47c-4156-b2a6-26bc9d6ba674\",\"type\":\"SaveTool\"},{\"id\":\"2a787f2a-6e38-44e1-97fa-49bcfb5075da\",\"type\":\"ResetTool\"},{\"id\":\"bdd8a3b6-6550-4a43-bf76-dd6ad6338747\",\"type\":\"HelpTool\"}]},\"id\":\"4b9bb97f-0931-4e64-b332-d9775d9499b1\",\"type\":\"Toolbar\"},{\"attributes\":{\"plot\":{\"id\":\"ea6a2f27-16c7-4cc2-8397-a690a13bc637\",\"subtype\":\"Figure\",\"type\":\"Plot\"}},\"id\":\"2a787f2a-6e38-44e1-97fa-49bcfb5075da\",\"type\":\"ResetTool\"},{\"attributes\":{\"callback\":null},\"id\":\"0ca3cb01-ca2c-4cbb-9a55-f147fe0d7762\",\"type\":\"DataRange1d\"},{\"attributes\":{\"callback\":null},\"id\":\"42355357-dd30-4a1e-81e8-68632a33b302\",\"type\":\"DataRange1d\"},{\"attributes\":{\"bottom_units\":\"screen\",\"fill_alpha\":{\"value\":0.5},\"fill_color\":{\"value\":\"lightgrey\"},\"left_units\":\"screen\",\"level\":\"overlay\",\"line_alpha\":{\"value\":1.0},\"line_color\":{\"value\":\"black\"},\"line_dash\":[4,4],\"line_width\":{\"value\":2},\"plot\":null,\"render_mode\":\"css\",\"right_units\":\"screen\",\"top_units\":\"screen\"},\"id\":\"db032087-df3e-4304-b4bf-d8b4908c6f96\",\"type\":\"BoxAnnotation\"},{\"attributes\":{\"dimension\":1,\"plot\":{\"id\":\"ea6a2f27-16c7-4cc2-8397-a690a13bc637\",\"subtype\":\"Figure\",\"type\":\"Plot\"},\"ticker\":{\"id\":\"9e166e23-9863-4bc9-b4bc-42ecd84047c5\",\"type\":\"BasicTicker\"}},\"id\":\"926d14aa-35ce-461d-be97-c28c5da0925b\",\"type\":\"Grid\"},{\"attributes\":{},\"id\":\"42aa4dac-f118-4790-8482-d07cf61ff970\",\"type\":\"ToolEvents\"},{\"attributes\":{\"axis_label\":\"Year\",\"formatter\":{\"id\":\"e3e850a4-3e3f-499a-a274-d11c797c91f4\",\"type\":\"BasicTickFormatter\"},\"plot\":{\"id\":\"ea6a2f27-16c7-4cc2-8397-a690a13bc637\",\"subtype\":\"Figure\",\"type\":\"Plot\"},\"ticker\":{\"id\":\"62b99c83-6241-4732-b2d0-21c6f45d855b\",\"type\":\"BasicTicker\"}},\"id\":\"c25ffd98-dae9-4721-883e-18b1148dca97\",\"type\":\"LinearAxis\"},{\"attributes\":{\"plot\":{\"id\":\"ea6a2f27-16c7-4cc2-8397-a690a13bc637\",\"subtype\":\"Figure\",\"type\":\"Plot\"},\"ticker\":{\"id\":\"62b99c83-6241-4732-b2d0-21c6f45d855b\",\"type\":\"BasicTicker\"}},\"id\":\"0358ee4e-a9b9-4fc6-b9c9-32f0a5bfb705\",\"type\":\"Grid\"},{\"attributes\":{\"fill_color\":{\"value\":\"#1f77b4\"},\"line_color\":{\"value\":\"#1f77b4\"},\"size\":{\"units\":\"screen\",\"value\":8},\"x\":{\"field\":\"x\"},\"y\":{\"field\":\"y\"}},\"id\":\"104af8c9-136f-47c5-a328-9bb896a631a7\",\"type\":\"Circle\"},{\"attributes\":{},\"id\":\"0a61ce61-01e6-4b6b-ba5b-060cff6e7afe\",\"type\":\"BasicTickFormatter\"},{\"attributes\":{\"plot\":null,\"text\":\"simple line example\"},\"id\":\"8a81b260-5127-4cae-bd93-7688524f1e94\",\"type\":\"Title\"},{\"attributes\":{\"plot\":{\"id\":\"ea6a2f27-16c7-4cc2-8397-a690a13bc637\",\"subtype\":\"Figure\",\"type\":\"Plot\"}},\"id\":\"6b551f63-24b6-4ed0-8a24-48468bf93c76\",\"type\":\"WheelZoomTool\"},{\"attributes\":{\"axis_label\":\"Records lost\",\"formatter\":{\"id\":\"0a61ce61-01e6-4b6b-ba5b-060cff6e7afe\",\"type\":\"BasicTickFormatter\"},\"plot\":{\"id\":\"ea6a2f27-16c7-4cc2-8397-a690a13bc637\",\"subtype\":\"Figure\",\"type\":\"Plot\"},\"ticker\":{\"id\":\"9e166e23-9863-4bc9-b4bc-42ecd84047c5\",\"type\":\"BasicTicker\"}},\"id\":\"d0fe4f41-a5cc-445c-8e8e-f45185912d79\",\"type\":\"LinearAxis\"},{\"attributes\":{\"below\":[{\"id\":\"c25ffd98-dae9-4721-883e-18b1148dca97\",\"type\":\"LinearAxis\"}],\"left\":[{\"id\":\"d0fe4f41-a5cc-445c-8e8e-f45185912d79\",\"type\":\"LinearAxis\"}],\"renderers\":[{\"id\":\"c25ffd98-dae9-4721-883e-18b1148dca97\",\"type\":\"LinearAxis\"},{\"id\":\"0358ee4e-a9b9-4fc6-b9c9-32f0a5bfb705\",\"type\":\"Grid\"},{\"id\":\"d0fe4f41-a5cc-445c-8e8e-f45185912d79\",\"type\":\"LinearAxis\"},{\"id\":\"926d14aa-35ce-461d-be97-c28c5da0925b\",\"type\":\"Grid\"},{\"id\":\"db032087-df3e-4304-b4bf-d8b4908c6f96\",\"type\":\"BoxAnnotation\"},{\"id\":\"921496aa-9edf-4e41-badf-2cb9a8a27541\",\"type\":\"GlyphRenderer\"}],\"title\":{\"id\":\"8a81b260-5127-4cae-bd93-7688524f1e94\",\"type\":\"Title\"},\"tool_events\":{\"id\":\"42aa4dac-f118-4790-8482-d07cf61ff970\",\"type\":\"ToolEvents\"},\"toolbar\":{\"id\":\"4b9bb97f-0931-4e64-b332-d9775d9499b1\",\"type\":\"Toolbar\"},\"x_range\":{\"id\":\"0ca3cb01-ca2c-4cbb-9a55-f147fe0d7762\",\"type\":\"DataRange1d\"},\"y_range\":{\"id\":\"42355357-dd30-4a1e-81e8-68632a33b302\",\"type\":\"DataRange1d\"}},\"id\":\"ea6a2f27-16c7-4cc2-8397-a690a13bc637\",\"subtype\":\"Figure\",\"type\":\"Plot\"}],\"root_ids\":[\"ea6a2f27-16c7-4cc2-8397-a690a13bc637\"]},\"title\":\"Bokeh Application\",\"version\":\"0.12.5\"}};\n",
       "            var render_items = [{\"docid\":\"3f2a4976-5202-4a73-8bfc-6d08295882fa\",\"elementid\":\"92c7c243-dfa4-478b-b36e-28ab56efda41\",\"modelid\":\"ea6a2f27-16c7-4cc2-8397-a690a13bc637\"}];\n",
       "            \n",
       "            Bokeh.embed.embed_items(docs_json, render_items);\n",
       "          };\n",
       "          if (document.readyState != \"loading\") fn();\n",
       "          else document.addEventListener(\"DOMContentLoaded\", fn);\n",
       "        })();\n",
       "      },\n",
       "      function(Bokeh) {\n",
       "      }\n",
       "    ];\n",
       "  \n",
       "    function run_inline_js() {\n",
       "      \n",
       "      if ((window.Bokeh !== undefined) || (force === true)) {\n",
       "        for (var i = 0; i < inline_js.length; i++) {\n",
       "          inline_js[i](window.Bokeh);\n",
       "        }if (force === true) {\n",
       "          display_loaded();\n",
       "        }} else if (Date.now() < window._bokeh_timeout) {\n",
       "        setTimeout(run_inline_js, 100);\n",
       "      } else if (!window._bokeh_failed_load) {\n",
       "        console.log(\"Bokeh: BokehJS failed to load within specified timeout.\");\n",
       "        window._bokeh_failed_load = true;\n",
       "      } else if (force !== true) {\n",
       "        var cell = $(document.getElementById(\"92c7c243-dfa4-478b-b36e-28ab56efda41\")).parents('.cell').data().cell;\n",
       "        cell.output_area.append_execute_result(NB_LOAD_WARNING)\n",
       "      }\n",
       "  \n",
       "    }\n",
       "  \n",
       "    if (window._bokeh_is_loading === 0) {\n",
       "      console.log(\"Bokeh: BokehJS loaded, going straight to plotting\");\n",
       "      run_inline_js();\n",
       "    } else {\n",
       "      load_libs(js_urls, function() {\n",
       "        console.log(\"Bokeh: BokehJS plotting callback run at\", now());\n",
       "        run_inline_js();\n",
       "      });\n",
       "    }\n",
       "  }(this));\n",
       "</script>"
      ]
     },
     "metadata": {},
     "output_type": "display_data"
    }
   ],
   "source": [
    "from bokeh.plotting import figure, show\n",
    "\n",
    "\n",
    "\n",
    "# create a new plot with a title and axis labels\n",
    "p = figure(title=\"simple line example\", x_axis_label='x', y_axis_label='y')\n",
    "\n",
    "# add a line renderer with legend and line thickness\n",
    "p.circle(x, y, size=8)\n",
    "p.xaxis.axis_label = 'Year'\n",
    "p.yaxis.axis_label = 'Records lost'\n",
    "\n",
    "# show the results\n",
    "show(p)"
   ]
  },
  {
   "cell_type": "markdown",
   "metadata": {},
   "source": [
    "# Visualization with Plotly"
   ]
  },
  {
   "cell_type": "code",
   "execution_count": 26,
   "metadata": {},
   "outputs": [
    {
     "data": {
      "text/html": [
       "<img src=\"https://s3-us-west-1.amazonaws.com/plotly-tutorials/plotly-marketing-pages/images/new-branding/logo/images/plotly-logo-01-stripe%402x.png\"/>"
      ],
      "text/plain": [
       "<IPython.core.display.Image object>"
      ]
     },
     "execution_count": 26,
     "metadata": {},
     "output_type": "execute_result"
    }
   ],
   "source": [
    "Image(url= \"https://s3-us-west-1.amazonaws.com/plotly-tutorials/plotly-marketing-pages/images/new-branding/logo/images/plotly-logo-01-stripe%402x.png\")"
   ]
  },
  {
   "cell_type": "markdown",
   "metadata": {},
   "source": [
    "##### Plotly\n",
    "Plotly is a pyhton package that can be used to produce interactive charts to help better visualize data."
   ]
  },
  {
   "cell_type": "code",
   "execution_count": 27,
   "metadata": {
    "collapsed": true
   },
   "outputs": [],
   "source": [
    "# Visuilization in plotly"
   ]
  },
  {
   "cell_type": "code",
   "execution_count": 28,
   "metadata": {
    "collapsed": true
   },
   "outputs": [],
   "source": [
    "import plotly \n",
    "\n",
    "\n",
    "# insert your user name and API key\n",
    "plotly.tools.set_credentials_file(username='zachr21', api_key='9YmxnTXyUWs4ygAzbDNo')"
   ]
  },
  {
   "cell_type": "code",
   "execution_count": 29,
   "metadata": {},
   "outputs": [
    {
     "data": {
      "text/plain": [
       "web                       74\n",
       "government                38\n",
       "healthcare                36\n",
       "financial                 32\n",
       "retail                    15\n",
       "tech                      10\n",
       "telecoms                   9\n",
       "academic                   9\n",
       "military                   6\n",
       "gaming                     6\n",
       "media                      3\n",
       "app                        3\n",
       "transport                  3\n",
       "energy                     3\n",
       "tech, web                  2\n",
       "tech, retail               2\n",
       "government, healthcare     2\n",
       "web, gaming                1\n",
       "web, military              1\n",
       "web, tech                  1\n",
       "government, military       1\n",
       "military, healthcare       1\n",
       "legal                      1\n",
       "Name: COMPANY_TYPE, dtype: int64"
      ]
     },
     "execution_count": 29,
     "metadata": {},
     "output_type": "execute_result"
    }
   ],
   "source": [
    "# get names for labels\n",
    "df.COMPANY_TYPE.value_counts()\n"
   ]
  },
  {
   "cell_type": "code",
   "execution_count": 30,
   "metadata": {},
   "outputs": [
    {
     "name": "stdout",
     "output_type": "stream",
     "text": [
      "High five! You successfully sent some data to your account on plotly. View your plot in your browser at https://plot.ly/~zachr21/0 or inside your plot.ly account where it is named 'basic_pie_chart'\n"
     ]
    },
    {
     "data": {
      "text/html": [
       "<iframe id=\"igraph\" scrolling=\"no\" style=\"border:none;\" seamless=\"seamless\" src=\"https://plot.ly/~zachr21/0.embed\" height=\"525px\" width=\"100%\"></iframe>"
      ],
      "text/plain": [
       "<plotly.tools.PlotlyDisplay object>"
      ]
     },
     "execution_count": 30,
     "metadata": {},
     "output_type": "execute_result"
    }
   ],
   "source": [
    "import plotly.plotly as py\n",
    "import plotly.graph_objs as go\n",
    "# Enter names for labels\n",
    "labels = ['Web','Government','Healthcare','Financial','Retail','Tech','Telecoms','Academic','Military','Gaming','Media','App','Transport','Energy','Tech/Web','Tech/Retail','Gov/Healthcare','Web/gaming','Web/Military','Web/Tech','Government/Military','Military/Healthcare','Legal']\n",
    "values = df.COMPANY_TYPE.value_counts()\n",
    "\n",
    "trace = go.Pie(labels=labels, values=values)\n",
    "\n",
    "py.iplot([trace], filename='basic_pie_chart')"
   ]
  },
  {
   "cell_type": "code",
   "execution_count": 31,
   "metadata": {},
   "outputs": [
    {
     "data": {
      "text/plain": [
       "hacked                           159\n",
       "lost / stolen device or media     50\n",
       "inside job                        19\n",
       "accidentally published            17\n",
       "poor security                     13\n",
       "hacked                             1\n",
       "Name: METHOD_OF_LEAK, dtype: int64"
      ]
     },
     "execution_count": 31,
     "metadata": {},
     "output_type": "execute_result"
    }
   ],
   "source": [
    "#get names for labels\n",
    "df.METHOD_OF_LEAK.value_counts()"
   ]
  },
  {
   "cell_type": "code",
   "execution_count": 32,
   "metadata": {},
   "outputs": [
    {
     "data": {
      "text/html": [
       "<iframe id=\"igraph\" scrolling=\"no\" style=\"border:none;\" seamless=\"seamless\" src=\"https://plot.ly/~zachr21/2.embed\" height=\"525px\" width=\"100%\"></iframe>"
      ],
      "text/plain": [
       "<plotly.tools.PlotlyDisplay object>"
      ]
     },
     "execution_count": 32,
     "metadata": {},
     "output_type": "execute_result"
    }
   ],
   "source": [
    "import plotly.plotly as py\n",
    "import plotly.graph_objs as go\n",
    "# enter names from of above as labels\n",
    "fig = {\n",
    "  \"data\": [\n",
    "    {\n",
    "      \"values\": df.COMPANY_TYPE.value_counts(),\n",
    "      \"labels\": ['Web','Government','Healthcare','Financial','Retail','Tech','Telecoms','Academic','Military','Gaming','Media','App','Transport','Energy','Tech/Web','Tech/Retail','Gov/Healthcare','Web/gaming','Web/Military','Web/Tech','Government/Military','Military/Healthcare','Legal'],\n",
    "      \"domain\": {\"x\": [0, .48]},\n",
    "      \"name\": \"Company Type\",\n",
    "      \"hoverinfo\":\"label+percent+name\",\n",
    "      \"hole\": .4,\n",
    "      \"type\": \"pie\"\n",
    "    },     \n",
    "    {\n",
    "      \"values\": df.METHOD_OF_LEAK.value_counts(),\n",
    "      \"labels\": [\n",
    "        \"Hacked\",\n",
    "        \"Lost/Stolen\",\n",
    "        \"Inside Job\",\n",
    "        \"Accidentally published\",\n",
    "        \"Poor Security\",\n",
    "        \"Hacked\"\n",
    "      ],\n",
    "      \"text\":\"CO2\",\n",
    "      \"textposition\":\"inside\",\n",
    "      \"domain\": {\"x\": [.52, 1]},\n",
    "      \"name\": \"Method of Leak\",\n",
    "      \"hoverinfo\":\"label+percent+name\",\n",
    "      \"hole\": .4,\n",
    "      \"type\": \"pie\"\n",
    "    }],\n",
    "  \"layout\": {\n",
    "        \"title\":\"Comany Type and Type of Data Breach\",\n",
    "        \"annotations\": [\n",
    "            {\n",
    "                \"font\": {\n",
    "                    \"size\": 20\n",
    "                },\n",
    "                \"showarrow\": False,\n",
    "                \"text\": \"Company\",\n",
    "                \"x\": 0.20,\n",
    "                \"y\": 0.5\n",
    "            },\n",
    "            {\n",
    "                \"font\": {\n",
    "                    \"size\": 20\n",
    "                },\n",
    "                \"showarrow\": False,\n",
    "                \"text\": \"Breach\",\n",
    "                \"x\": 0.8,\n",
    "                \"y\": 0.5\n",
    "            }\n",
    "        ]\n",
    "    }\n",
    "}\n",
    "py.iplot(fig, filename='donut')"
   ]
  },
  {
   "cell_type": "markdown",
   "metadata": {},
   "source": [
    "### Types of Breaches\n",
    "Below are barcharts of the different types of data breaches. Hacks are the most common of all the data breaches however there are still other methods of breaches that might go unnoticed."
   ]
  },
  {
   "cell_type": "code",
   "execution_count": 33,
   "metadata": {},
   "outputs": [
    {
     "data": {
      "text/html": [
       "<iframe id=\"igraph\" scrolling=\"no\" style=\"border:none;\" seamless=\"seamless\" src=\"https://plot.ly/~zachr21/12.embed\" height=\"525px\" width=\"100%\"></iframe>"
      ],
      "text/plain": [
       "<plotly.tools.PlotlyDisplay object>"
      ]
     },
     "execution_count": 33,
     "metadata": {},
     "output_type": "execute_result"
    }
   ],
   "source": [
    "import plotly.plotly as py\n",
    "import plotly.graph_objs as go\n",
    "\n",
    "data = [go.Bar(\n",
    "            x=[\n",
    "        \"Hacked\",\n",
    "        \"Lost/Stolen\",\n",
    "        \"Inside Job\",\n",
    "        \"Accidentally published\",\n",
    "        \"Poor Security\",\n",
    "        \"Hacked\"\n",
    "      ],\n",
    "            y=df.METHOD_OF_LEAK.value_counts()\n",
    "    )]\n",
    "\n",
    "py.iplot(data, filename='basic-bar')"
   ]
  },
  {
   "cell_type": "markdown",
   "metadata": {},
   "source": [
    "### Records Lost Vs Records Stolen\n",
    "The next few charts and graphs give a comparison of the number of records lost and the number of records stolen. A majority of the time the two numbers match up however there are a few instances that they do not line up. Keep in mind with plotly the charts are interactive and give you the ability to zoom in on specific areeas."
   ]
  },
  {
   "cell_type": "code",
   "execution_count": 34,
   "metadata": {},
   "outputs": [
    {
     "data": {
      "text/html": [
       "<iframe id=\"igraph\" scrolling=\"no\" style=\"border:none;\" seamless=\"seamless\" src=\"https://plot.ly/~zachr21/4.embed\" height=\"525px\" width=\"100%\"></iframe>"
      ],
      "text/plain": [
       "<plotly.tools.PlotlyDisplay object>"
      ]
     },
     "execution_count": 34,
     "metadata": {},
     "output_type": "execute_result"
    }
   ],
   "source": [
    "import plotly.plotly as py\n",
    "import plotly.graph_objs as go\n",
    "N = 50\n",
    "random_x = df['YEAR']\n",
    "random_y0 = df['RECORDS_LOST']\n",
    "random_y1 = df['NO OF RECORDS STOLEN']\n",
    "\n",
    "# Create traces\n",
    "trace0 = go.Scatter(\n",
    "    x = random_x,\n",
    "    y = random_y0,\n",
    "    mode = 'lines+markers',\n",
    "    name = 'Records Lost'\n",
    ")\n",
    "trace1 = go.Scatter(\n",
    "    x = random_x,\n",
    "    y = random_y1,\n",
    "    mode = 'lines+markers',\n",
    "    name = 'Records Stolen'\n",
    ")\n",
    "data = [trace0, trace1]\n",
    "\n",
    "py.iplot(data, filename='line-mode')"
   ]
  },
  {
   "cell_type": "code",
   "execution_count": 35,
   "metadata": {},
   "outputs": [
    {
     "data": {
      "text/html": [
       "<iframe id=\"igraph\" scrolling=\"no\" style=\"border:none;\" seamless=\"seamless\" src=\"https://plot.ly/~zachr21/6.embed\" height=\"525px\" width=\"100%\"></iframe>"
      ],
      "text/plain": [
       "<plotly.tools.PlotlyDisplay object>"
      ]
     },
     "execution_count": 35,
     "metadata": {},
     "output_type": "execute_result"
    }
   ],
   "source": [
    "import plotly.plotly as py\n",
    "import plotly.graph_objs as go\n",
    "Year = df['YEAR']\n",
    "RecordsLost = df['RECORDS_LOST']\n",
    "RecordsStolen = df['NO OF RECORDS STOLEN']\n",
    "\n",
    "# Create and style traces\n",
    "trace0 = go.Scatter(\n",
    "    x = Year,\n",
    "    y = RecordsLost,\n",
    "    name = 'Records Lost',\n",
    "    line = dict(\n",
    "        color = ('rgb(205, 12, 24)'),\n",
    "        width = 4)\n",
    ")\n",
    "trace1 = go.Scatter(\n",
    "    x = Year,\n",
    "    y = RecordsStolen,\n",
    "    name = 'Records Stolen',\n",
    "    line = dict(\n",
    "        color = ('rgb(22, 96, 167)'),\n",
    "        width = 4,dash = 'dash')\n",
    ")\n",
    "\n",
    "data = [trace0, trace1]\n",
    "\n",
    "# Edit the layout\n",
    "layout = dict(title = 'Records Lost and Stolen',\n",
    "              xaxis = dict(title = 'YEAR'),\n",
    "              yaxis = dict(title = 'NO of Records'),\n",
    "              )\n",
    "\n",
    "fig = dict(data=data, layout=layout)\n",
    "py.iplot(fig, filename='styled-line')"
   ]
  },
  {
   "cell_type": "markdown",
   "metadata": {},
   "source": [
    "### Bar Graphs\n",
    "The next couple of graphs put the Records Lost vs Stolen in bar graph view."
   ]
  },
  {
   "cell_type": "code",
   "execution_count": 36,
   "metadata": {},
   "outputs": [
    {
     "data": {
      "text/html": [
       "<iframe id=\"igraph\" scrolling=\"no\" style=\"border:none;\" seamless=\"seamless\" src=\"https://plot.ly/~zachr21/8.embed\" height=\"525px\" width=\"100%\"></iframe>"
      ],
      "text/plain": [
       "<plotly.tools.PlotlyDisplay object>"
      ]
     },
     "execution_count": 36,
     "metadata": {},
     "output_type": "execute_result"
    }
   ],
   "source": [
    "import plotly.plotly as py\n",
    "import plotly.graph_objs as go\n",
    "\n",
    "trace1 = go.Bar(\n",
    "    x=df['YEAR'],\n",
    "    y=df['RECORDS_LOST'],\n",
    "    name='Records Lost'\n",
    ")\n",
    "trace2 = go.Bar(\n",
    "    x=df['YEAR'],\n",
    "    y=df['NO OF RECORDS STOLEN'],\n",
    "    name='Records Stolen'\n",
    ")\n",
    "\n",
    "data = [trace1, trace2]\n",
    "layout = go.Layout(\n",
    "    barmode='stack'\n",
    ")\n",
    "\n",
    "fig = go.Figure(data=data, layout=layout)\n",
    "py.iplot(fig, filename='stacked-bar')"
   ]
  },
  {
   "cell_type": "code",
   "execution_count": 37,
   "metadata": {
    "scrolled": false
   },
   "outputs": [
    {
     "data": {
      "text/html": [
       "<iframe id=\"igraph\" scrolling=\"no\" style=\"border:none;\" seamless=\"seamless\" src=\"https://plot.ly/~zachr21/10.embed\" height=\"525px\" width=\"100%\"></iframe>"
      ],
      "text/plain": [
       "<plotly.tools.PlotlyDisplay object>"
      ]
     },
     "execution_count": 37,
     "metadata": {},
     "output_type": "execute_result"
    }
   ],
   "source": [
    "import plotly.plotly as py\n",
    "import plotly.graph_objs as go\n",
    "\n",
    "trace1 = go.Bar(\n",
    "    x=df['YEAR'],\n",
    "    y=df['RECORDS_LOST'],\n",
    "    name='Records Lost'\n",
    ")\n",
    "trace2 = go.Bar(\n",
    "    x=df['YEAR'],\n",
    "    y=df['NO OF RECORDS STOLEN'],\n",
    "    name='Records Stolen'\n",
    ")\n",
    "\n",
    "data = [trace1, trace2]\n",
    "layout = go.Layout(\n",
    "    barmode='group'\n",
    ")\n",
    "\n",
    "fig = go.Figure(data=data, layout=layout)\n",
    "py.iplot(fig, filename='grouped-bar')"
   ]
  },
  {
   "cell_type": "markdown",
   "metadata": {},
   "source": [
    "### Box Plots\n",
    "The following show box plots of the Recods stolen vs the Recods lost as well as for data sensativity. The box Plots give you the median mean first and third quartile as well as the min and max. With the large spread in the numbers there are outliers so the plot is spread wide. Remember to use the interactive features to zoom to help visualize the data."
   ]
  },
  {
   "cell_type": "code",
   "execution_count": 38,
   "metadata": {},
   "outputs": [
    {
     "data": {
      "text/html": [
       "<iframe id=\"igraph\" scrolling=\"no\" style=\"border:none;\" seamless=\"seamless\" src=\"https://plot.ly/~zachr21/38.embed\" height=\"525px\" width=\"100%\"></iframe>"
      ],
      "text/plain": [
       "<plotly.tools.PlotlyDisplay object>"
      ]
     },
     "execution_count": 38,
     "metadata": {},
     "output_type": "execute_result"
    }
   ],
   "source": [
    "import plotly.plotly as py\n",
    "import plotly.graph_objs as go\n",
    "\n",
    "\n",
    "x0 = df['RECORDS_LOST']\n",
    "x1 = df['NO OF RECORDS STOLEN']\n",
    "\n",
    "LOST = go.Box(x=x0)\n",
    "STOLEN = go.Box(x=x1)\n",
    "data = [LOST, STOLEN]\n",
    "py.iplot(data)"
   ]
  },
  {
   "cell_type": "code",
   "execution_count": 39,
   "metadata": {},
   "outputs": [
    {
     "data": {
      "text/html": [
       "<iframe id=\"igraph\" scrolling=\"no\" style=\"border:none;\" seamless=\"seamless\" src=\"https://plot.ly/~zachr21/40.embed\" height=\"525px\" width=\"100%\"></iframe>"
      ],
      "text/plain": [
       "<plotly.tools.PlotlyDisplay object>"
      ]
     },
     "execution_count": 39,
     "metadata": {},
     "output_type": "execute_result"
    }
   ],
   "source": [
    "import plotly.plotly as py\n",
    "import plotly.graph_objs as go\n",
    "\n",
    "\n",
    "x0 = df['DATA SENSITIVITY']\n",
    "\n",
    "LOST = go.Box(x=x0)\n",
    "data = [LOST]\n",
    "py.iplot(data)"
   ]
  },
  {
   "cell_type": "code",
   "execution_count": 40,
   "metadata": {},
   "outputs": [
    {
     "data": {
      "text/html": [
       "<iframe id=\"igraph\" scrolling=\"no\" style=\"border:none;\" seamless=\"seamless\" src=\"https://plot.ly/~zachr21/28.embed\" height=\"525px\" width=\"100%\"></iframe>"
      ],
      "text/plain": [
       "<plotly.tools.PlotlyDisplay object>"
      ]
     },
     "execution_count": 40,
     "metadata": {},
     "output_type": "execute_result"
    }
   ],
   "source": [
    "import plotly.plotly as py\n",
    "import plotly.graph_objs as go\n",
    "\n",
    "x = df['DATA SENSITIVITY']\n",
    "data = [go.Histogram(x=x)]\n",
    "\n",
    "py.iplot(data, filename='basic histogram')"
   ]
  },
  {
   "cell_type": "code",
   "execution_count": 41,
   "metadata": {},
   "outputs": [
    {
     "data": {
      "text/html": [
       "<iframe id=\"igraph\" scrolling=\"no\" style=\"border:none;\" seamless=\"seamless\" src=\"https://plot.ly/~zachr21/32.embed\" height=\"525px\" width=\"100%\"></iframe>"
      ],
      "text/plain": [
       "<plotly.tools.PlotlyDisplay object>"
      ]
     },
     "execution_count": 41,
     "metadata": {},
     "output_type": "execute_result"
    }
   ],
   "source": [
    "import plotly.plotly as py\n",
    "import plotly.graph_objs as go\n",
    "\n",
    "trace = go.Heatmap(z=[df['RECORDS_LOST']])\n",
    "data=[trace]\n",
    "py.iplot(data, filename='basic-heatmap')"
   ]
  },
  {
   "cell_type": "markdown",
   "metadata": {},
   "source": [
    "# Analyze the Data"
   ]
  },
  {
   "cell_type": "code",
   "execution_count": 42,
   "metadata": {},
   "outputs": [
    {
     "data": {
      "text/html": [
       "<img src=\"https://image.slidesharecdn.com/data-analysis-160216200001/95/data-analysis-1-638.jpg?cb=1455652857\"/>"
      ],
      "text/plain": [
       "<IPython.core.display.Image object>"
      ]
     },
     "execution_count": 42,
     "metadata": {},
     "output_type": "execute_result"
    }
   ],
   "source": [
    "Image(url= \"https://image.slidesharecdn.com/data-analysis-160216200001/95/data-analysis-1-638.jpg?cb=1455652857\")"
   ]
  },
  {
   "cell_type": "markdown",
   "metadata": {},
   "source": [
    "### Sorting\n",
    "Using the sort by code it helps to display the highest value in a particular column. Below are the highest values in Records lost, Data Sensitivity, and Records Stolen."
   ]
  },
  {
   "cell_type": "code",
   "execution_count": 43,
   "metadata": {},
   "outputs": [
    {
     "data": {
      "text/html": [
       "<div>\n",
       "<style>\n",
       "    .dataframe thead tr:only-child th {\n",
       "        text-align: right;\n",
       "    }\n",
       "\n",
       "    .dataframe thead th {\n",
       "        text-align: left;\n",
       "    }\n",
       "\n",
       "    .dataframe tbody tr th {\n",
       "        vertical-align: top;\n",
       "    }\n",
       "</style>\n",
       "<table border=\"1\" class=\"dataframe\">\n",
       "  <thead>\n",
       "    <tr style=\"text-align: right;\">\n",
       "      <th></th>\n",
       "      <th>COMPANY</th>\n",
       "      <th>YEAR</th>\n",
       "      <th>RECORDS_LOST</th>\n",
       "      <th>COMPANY_TYPE</th>\n",
       "      <th>METHOD_OF_LEAK</th>\n",
       "      <th>NO OF RECORDS STOLEN</th>\n",
       "      <th>DATA SENSITIVITY</th>\n",
       "    </tr>\n",
       "  </thead>\n",
       "  <tbody>\n",
       "    <tr>\n",
       "      <th>231</th>\n",
       "      <td>River City Media</td>\n",
       "      <td>2017</td>\n",
       "      <td>1370000000</td>\n",
       "      <td>web</td>\n",
       "      <td>accidentally published</td>\n",
       "      <td>700000000</td>\n",
       "      <td>20</td>\n",
       "    </tr>\n",
       "    <tr>\n",
       "      <th>157</th>\n",
       "      <td>Yahoo</td>\n",
       "      <td>2013</td>\n",
       "      <td>1000000000</td>\n",
       "      <td>web</td>\n",
       "      <td>hacked</td>\n",
       "      <td>1000000000</td>\n",
       "      <td>20</td>\n",
       "    </tr>\n",
       "    <tr>\n",
       "      <th>259</th>\n",
       "      <td>Spambot</td>\n",
       "      <td>2017</td>\n",
       "      <td>711000000</td>\n",
       "      <td>web</td>\n",
       "      <td>poor security</td>\n",
       "      <td>711000000</td>\n",
       "      <td>4000</td>\n",
       "    </tr>\n",
       "    <tr>\n",
       "      <th>186</th>\n",
       "      <td>Yahoo</td>\n",
       "      <td>2014</td>\n",
       "      <td>500000000</td>\n",
       "      <td>web</td>\n",
       "      <td>hacked</td>\n",
       "      <td>500000000</td>\n",
       "      <td>20</td>\n",
       "    </tr>\n",
       "    <tr>\n",
       "      <th>249</th>\n",
       "      <td>Friend Finder Network</td>\n",
       "      <td>2017</td>\n",
       "      <td>412000000</td>\n",
       "      <td>web</td>\n",
       "      <td>hacked</td>\n",
       "      <td>412000000</td>\n",
       "      <td>1</td>\n",
       "    </tr>\n",
       "  </tbody>\n",
       "</table>\n",
       "</div>"
      ],
      "text/plain": [
       "                   COMPANY  YEAR  RECORDS_LOST COMPANY_TYPE  \\\n",
       "231       River City Media  2017    1370000000          web   \n",
       "157                  Yahoo  2013    1000000000          web   \n",
       "259                Spambot  2017     711000000          web   \n",
       "186                  Yahoo  2014     500000000          web   \n",
       "249  Friend Finder Network  2017     412000000          web   \n",
       "\n",
       "             METHOD_OF_LEAK  NO OF RECORDS STOLEN  DATA SENSITIVITY  \n",
       "231  accidentally published             700000000                20  \n",
       "157                  hacked            1000000000                20  \n",
       "259           poor security             711000000              4000  \n",
       "186                  hacked             500000000                20  \n",
       "249                  hacked             412000000                 1  "
      ]
     },
     "execution_count": 43,
     "metadata": {},
     "output_type": "execute_result"
    }
   ],
   "source": [
    "df.sort_values('RECORDS_LOST',ascending=False).head()"
   ]
  },
  {
   "cell_type": "code",
   "execution_count": 44,
   "metadata": {},
   "outputs": [
    {
     "data": {
      "text/html": [
       "<div>\n",
       "<style>\n",
       "    .dataframe thead tr:only-child th {\n",
       "        text-align: right;\n",
       "    }\n",
       "\n",
       "    .dataframe thead th {\n",
       "        text-align: left;\n",
       "    }\n",
       "\n",
       "    .dataframe tbody tr th {\n",
       "        vertical-align: top;\n",
       "    }\n",
       "</style>\n",
       "<table border=\"1\" class=\"dataframe\">\n",
       "  <thead>\n",
       "    <tr style=\"text-align: right;\">\n",
       "      <th></th>\n",
       "      <th>COMPANY</th>\n",
       "      <th>YEAR</th>\n",
       "      <th>RECORDS_LOST</th>\n",
       "      <th>COMPANY_TYPE</th>\n",
       "      <th>METHOD_OF_LEAK</th>\n",
       "      <th>NO OF RECORDS STOLEN</th>\n",
       "      <th>DATA SENSITIVITY</th>\n",
       "    </tr>\n",
       "  </thead>\n",
       "  <tbody>\n",
       "    <tr>\n",
       "      <th>188</th>\n",
       "      <td>Korea Credit Bureau</td>\n",
       "      <td>2014</td>\n",
       "      <td>20000000</td>\n",
       "      <td>financial</td>\n",
       "      <td>inside job</td>\n",
       "      <td>20000000</td>\n",
       "      <td>50000</td>\n",
       "    </tr>\n",
       "    <tr>\n",
       "      <th>153</th>\n",
       "      <td>Adobe</td>\n",
       "      <td>2013</td>\n",
       "      <td>36000000</td>\n",
       "      <td>tech</td>\n",
       "      <td>hacked</td>\n",
       "      <td>36000000</td>\n",
       "      <td>50000</td>\n",
       "    </tr>\n",
       "    <tr>\n",
       "      <th>64</th>\n",
       "      <td>Embassy Cables</td>\n",
       "      <td>2010</td>\n",
       "      <td>251000</td>\n",
       "      <td>government</td>\n",
       "      <td>inside job</td>\n",
       "      <td>300000</td>\n",
       "      <td>50000</td>\n",
       "    </tr>\n",
       "    <tr>\n",
       "      <th>65</th>\n",
       "      <td>US Military</td>\n",
       "      <td>2010</td>\n",
       "      <td>260000</td>\n",
       "      <td>military</td>\n",
       "      <td>inside job</td>\n",
       "      <td>300000</td>\n",
       "      <td>50000</td>\n",
       "    </tr>\n",
       "    <tr>\n",
       "      <th>71</th>\n",
       "      <td>South Shore Hospital, Massachusetts</td>\n",
       "      <td>2010</td>\n",
       "      <td>800000</td>\n",
       "      <td>healthcare</td>\n",
       "      <td>lost / stolen device or media</td>\n",
       "      <td>800000</td>\n",
       "      <td>50000</td>\n",
       "    </tr>\n",
       "    <tr>\n",
       "      <th>242</th>\n",
       "      <td>ClixSense</td>\n",
       "      <td>2017</td>\n",
       "      <td>6600000</td>\n",
       "      <td>web</td>\n",
       "      <td>hacked</td>\n",
       "      <td>6600000</td>\n",
       "      <td>50000</td>\n",
       "    </tr>\n",
       "    <tr>\n",
       "      <th>37</th>\n",
       "      <td>UK Ministry of Defence</td>\n",
       "      <td>2008</td>\n",
       "      <td>1700000</td>\n",
       "      <td>government</td>\n",
       "      <td>lost / stolen device or media</td>\n",
       "      <td>1700000</td>\n",
       "      <td>50000</td>\n",
       "    </tr>\n",
       "    <tr>\n",
       "      <th>84</th>\n",
       "      <td>Massachusetts Government</td>\n",
       "      <td>2011</td>\n",
       "      <td>210000</td>\n",
       "      <td>government</td>\n",
       "      <td>hacked</td>\n",
       "      <td>200000</td>\n",
       "      <td>50000</td>\n",
       "    </tr>\n",
       "    <tr>\n",
       "      <th>234</th>\n",
       "      <td>Wonga</td>\n",
       "      <td>2017</td>\n",
       "      <td>270000</td>\n",
       "      <td>financial</td>\n",
       "      <td>hacked</td>\n",
       "      <td>270000</td>\n",
       "      <td>50000</td>\n",
       "    </tr>\n",
       "    <tr>\n",
       "      <th>254</th>\n",
       "      <td>Equifax</td>\n",
       "      <td>2017</td>\n",
       "      <td>143000000</td>\n",
       "      <td>financial</td>\n",
       "      <td>hacked</td>\n",
       "      <td>143000000</td>\n",
       "      <td>50000</td>\n",
       "    </tr>\n",
       "  </tbody>\n",
       "</table>\n",
       "</div>"
      ],
      "text/plain": [
       "                                 COMPANY  YEAR  RECORDS_LOST COMPANY_TYPE  \\\n",
       "188                  Korea Credit Bureau  2014      20000000    financial   \n",
       "153                                Adobe  2013      36000000         tech   \n",
       "64                        Embassy Cables  2010        251000   government   \n",
       "65                           US Military  2010        260000     military   \n",
       "71   South Shore Hospital, Massachusetts  2010        800000   healthcare   \n",
       "242                            ClixSense  2017       6600000          web   \n",
       "37                UK Ministry of Defence  2008       1700000   government   \n",
       "84              Massachusetts Government  2011        210000   government   \n",
       "234                                Wonga  2017        270000    financial   \n",
       "254                              Equifax  2017     143000000    financial   \n",
       "\n",
       "                    METHOD_OF_LEAK  NO OF RECORDS STOLEN  DATA SENSITIVITY  \n",
       "188                     inside job              20000000             50000  \n",
       "153                         hacked              36000000             50000  \n",
       "64                      inside job                300000             50000  \n",
       "65                      inside job                300000             50000  \n",
       "71   lost / stolen device or media                800000             50000  \n",
       "242                         hacked               6600000             50000  \n",
       "37   lost / stolen device or media               1700000             50000  \n",
       "84                          hacked                200000             50000  \n",
       "234                         hacked                270000             50000  \n",
       "254                         hacked             143000000             50000  "
      ]
     },
     "execution_count": 44,
     "metadata": {},
     "output_type": "execute_result"
    }
   ],
   "source": [
    "#sort to display the 10 largest breaches in terms of Data Sensitivity\n",
    "Stolen = df.sort_values('DATA SENSITIVITY',ascending=False)[:10]\n",
    "Stolen"
   ]
  },
  {
   "cell_type": "code",
   "execution_count": 45,
   "metadata": {},
   "outputs": [
    {
     "data": {
      "text/html": [
       "<div>\n",
       "<style>\n",
       "    .dataframe thead tr:only-child th {\n",
       "        text-align: right;\n",
       "    }\n",
       "\n",
       "    .dataframe thead th {\n",
       "        text-align: left;\n",
       "    }\n",
       "\n",
       "    .dataframe tbody tr th {\n",
       "        vertical-align: top;\n",
       "    }\n",
       "</style>\n",
       "<table border=\"1\" class=\"dataframe\">\n",
       "  <thead>\n",
       "    <tr style=\"text-align: right;\">\n",
       "      <th></th>\n",
       "      <th>COMPANY</th>\n",
       "      <th>YEAR</th>\n",
       "      <th>RECORDS_LOST</th>\n",
       "      <th>COMPANY_TYPE</th>\n",
       "      <th>METHOD_OF_LEAK</th>\n",
       "      <th>NO OF RECORDS STOLEN</th>\n",
       "      <th>DATA SENSITIVITY</th>\n",
       "    </tr>\n",
       "  </thead>\n",
       "  <tbody>\n",
       "    <tr>\n",
       "      <th>157</th>\n",
       "      <td>Yahoo</td>\n",
       "      <td>2013</td>\n",
       "      <td>1000000000</td>\n",
       "      <td>web</td>\n",
       "      <td>hacked</td>\n",
       "      <td>1000000000</td>\n",
       "      <td>20</td>\n",
       "    </tr>\n",
       "    <tr>\n",
       "      <th>259</th>\n",
       "      <td>Spambot</td>\n",
       "      <td>2017</td>\n",
       "      <td>711000000</td>\n",
       "      <td>web</td>\n",
       "      <td>poor security</td>\n",
       "      <td>711000000</td>\n",
       "      <td>4000</td>\n",
       "    </tr>\n",
       "    <tr>\n",
       "      <th>231</th>\n",
       "      <td>River City Media</td>\n",
       "      <td>2017</td>\n",
       "      <td>1370000000</td>\n",
       "      <td>web</td>\n",
       "      <td>accidentally published</td>\n",
       "      <td>700000000</td>\n",
       "      <td>20</td>\n",
       "    </tr>\n",
       "    <tr>\n",
       "      <th>186</th>\n",
       "      <td>Yahoo</td>\n",
       "      <td>2014</td>\n",
       "      <td>500000000</td>\n",
       "      <td>web</td>\n",
       "      <td>hacked</td>\n",
       "      <td>500000000</td>\n",
       "      <td>20</td>\n",
       "    </tr>\n",
       "    <tr>\n",
       "      <th>249</th>\n",
       "      <td>Friend Finder Network</td>\n",
       "      <td>2017</td>\n",
       "      <td>412000000</td>\n",
       "      <td>web</td>\n",
       "      <td>hacked</td>\n",
       "      <td>412000000</td>\n",
       "      <td>1</td>\n",
       "    </tr>\n",
       "    <tr>\n",
       "      <th>133</th>\n",
       "      <td>Court Ventures</td>\n",
       "      <td>2012</td>\n",
       "      <td>200000000</td>\n",
       "      <td>financial</td>\n",
       "      <td>inside job</td>\n",
       "      <td>200000000</td>\n",
       "      <td>20</td>\n",
       "    </tr>\n",
       "    <tr>\n",
       "      <th>212</th>\n",
       "      <td>Deep Root Analytics</td>\n",
       "      <td>2015</td>\n",
       "      <td>198000000</td>\n",
       "      <td>web</td>\n",
       "      <td>poor security</td>\n",
       "      <td>198000000</td>\n",
       "      <td>20</td>\n",
       "    </tr>\n",
       "    <tr>\n",
       "      <th>224</th>\n",
       "      <td>MySpace</td>\n",
       "      <td>2016</td>\n",
       "      <td>164000000</td>\n",
       "      <td>web</td>\n",
       "      <td>hacked</td>\n",
       "      <td>164000000</td>\n",
       "      <td>1</td>\n",
       "    </tr>\n",
       "    <tr>\n",
       "      <th>128</th>\n",
       "      <td>Massive American business hack</td>\n",
       "      <td>2012</td>\n",
       "      <td>160000000</td>\n",
       "      <td>financial</td>\n",
       "      <td>hacked</td>\n",
       "      <td>160000000</td>\n",
       "      <td>50000</td>\n",
       "    </tr>\n",
       "    <tr>\n",
       "      <th>185</th>\n",
       "      <td>Ebay</td>\n",
       "      <td>2014</td>\n",
       "      <td>145000000</td>\n",
       "      <td>web</td>\n",
       "      <td>hacked</td>\n",
       "      <td>145000000</td>\n",
       "      <td>1</td>\n",
       "    </tr>\n",
       "  </tbody>\n",
       "</table>\n",
       "</div>"
      ],
      "text/plain": [
       "                            COMPANY  YEAR  RECORDS_LOST COMPANY_TYPE  \\\n",
       "157                           Yahoo  2013    1000000000          web   \n",
       "259                         Spambot  2017     711000000          web   \n",
       "231                River City Media  2017    1370000000          web   \n",
       "186                           Yahoo  2014     500000000          web   \n",
       "249           Friend Finder Network  2017     412000000          web   \n",
       "133                  Court Ventures  2012     200000000    financial   \n",
       "212             Deep Root Analytics  2015     198000000          web   \n",
       "224                         MySpace  2016     164000000          web   \n",
       "128  Massive American business hack  2012     160000000    financial   \n",
       "185                            Ebay  2014     145000000          web   \n",
       "\n",
       "             METHOD_OF_LEAK  NO OF RECORDS STOLEN  DATA SENSITIVITY  \n",
       "157                  hacked            1000000000                20  \n",
       "259           poor security             711000000              4000  \n",
       "231  accidentally published             700000000                20  \n",
       "186                  hacked             500000000                20  \n",
       "249                  hacked             412000000                 1  \n",
       "133              inside job             200000000                20  \n",
       "212           poor security             198000000                20  \n",
       "224                  hacked             164000000                 1  \n",
       "128                  hacked             160000000             50000  \n",
       "185                  hacked             145000000                 1  "
      ]
     },
     "execution_count": 45,
     "metadata": {},
     "output_type": "execute_result"
    }
   ],
   "source": [
    "#sort to display the 10 largest breaches in terms of records Stolen\n",
    "Stolen = df.sort_values('NO OF RECORDS STOLEN',ascending=False)[:10]\n",
    "Stolen"
   ]
  },
  {
   "cell_type": "code",
   "execution_count": 46,
   "metadata": {},
   "outputs": [
    {
     "data": {
      "text/html": [
       "<div>\n",
       "<style>\n",
       "    .dataframe thead tr:only-child th {\n",
       "        text-align: right;\n",
       "    }\n",
       "\n",
       "    .dataframe thead th {\n",
       "        text-align: left;\n",
       "    }\n",
       "\n",
       "    .dataframe tbody tr th {\n",
       "        vertical-align: top;\n",
       "    }\n",
       "</style>\n",
       "<table border=\"1\" class=\"dataframe\">\n",
       "  <thead>\n",
       "    <tr style=\"text-align: right;\">\n",
       "      <th></th>\n",
       "      <th>COMPANY</th>\n",
       "      <th>YEAR</th>\n",
       "      <th>RECORDS_LOST</th>\n",
       "      <th>COMPANY_TYPE</th>\n",
       "      <th>METHOD_OF_LEAK</th>\n",
       "      <th>NO OF RECORDS STOLEN</th>\n",
       "      <th>DATA SENSITIVITY</th>\n",
       "    </tr>\n",
       "  </thead>\n",
       "  <tbody>\n",
       "    <tr>\n",
       "      <th>231</th>\n",
       "      <td>River City Media</td>\n",
       "      <td>2017</td>\n",
       "      <td>1370000000</td>\n",
       "      <td>web</td>\n",
       "      <td>accidentally published</td>\n",
       "      <td>700000000</td>\n",
       "      <td>20</td>\n",
       "    </tr>\n",
       "    <tr>\n",
       "      <th>157</th>\n",
       "      <td>Yahoo</td>\n",
       "      <td>2013</td>\n",
       "      <td>1000000000</td>\n",
       "      <td>web</td>\n",
       "      <td>hacked</td>\n",
       "      <td>1000000000</td>\n",
       "      <td>20</td>\n",
       "    </tr>\n",
       "    <tr>\n",
       "      <th>259</th>\n",
       "      <td>Spambot</td>\n",
       "      <td>2017</td>\n",
       "      <td>711000000</td>\n",
       "      <td>web</td>\n",
       "      <td>poor security</td>\n",
       "      <td>711000000</td>\n",
       "      <td>4000</td>\n",
       "    </tr>\n",
       "    <tr>\n",
       "      <th>186</th>\n",
       "      <td>Yahoo</td>\n",
       "      <td>2014</td>\n",
       "      <td>500000000</td>\n",
       "      <td>web</td>\n",
       "      <td>hacked</td>\n",
       "      <td>500000000</td>\n",
       "      <td>20</td>\n",
       "    </tr>\n",
       "    <tr>\n",
       "      <th>249</th>\n",
       "      <td>Friend Finder Network</td>\n",
       "      <td>2017</td>\n",
       "      <td>412000000</td>\n",
       "      <td>web</td>\n",
       "      <td>hacked</td>\n",
       "      <td>412000000</td>\n",
       "      <td>1</td>\n",
       "    </tr>\n",
       "    <tr>\n",
       "      <th>133</th>\n",
       "      <td>Court Ventures</td>\n",
       "      <td>2012</td>\n",
       "      <td>200000000</td>\n",
       "      <td>financial</td>\n",
       "      <td>inside job</td>\n",
       "      <td>200000000</td>\n",
       "      <td>20</td>\n",
       "    </tr>\n",
       "    <tr>\n",
       "      <th>212</th>\n",
       "      <td>Deep Root Analytics</td>\n",
       "      <td>2015</td>\n",
       "      <td>198000000</td>\n",
       "      <td>web</td>\n",
       "      <td>poor security</td>\n",
       "      <td>198000000</td>\n",
       "      <td>20</td>\n",
       "    </tr>\n",
       "    <tr>\n",
       "      <th>224</th>\n",
       "      <td>MySpace</td>\n",
       "      <td>2016</td>\n",
       "      <td>164000000</td>\n",
       "      <td>web</td>\n",
       "      <td>hacked</td>\n",
       "      <td>164000000</td>\n",
       "      <td>1</td>\n",
       "    </tr>\n",
       "    <tr>\n",
       "      <th>128</th>\n",
       "      <td>Massive American business hack</td>\n",
       "      <td>2012</td>\n",
       "      <td>160000000</td>\n",
       "      <td>financial</td>\n",
       "      <td>hacked</td>\n",
       "      <td>160000000</td>\n",
       "      <td>50000</td>\n",
       "    </tr>\n",
       "    <tr>\n",
       "      <th>185</th>\n",
       "      <td>Ebay</td>\n",
       "      <td>2014</td>\n",
       "      <td>145000000</td>\n",
       "      <td>web</td>\n",
       "      <td>hacked</td>\n",
       "      <td>145000000</td>\n",
       "      <td>1</td>\n",
       "    </tr>\n",
       "  </tbody>\n",
       "</table>\n",
       "</div>"
      ],
      "text/plain": [
       "                            COMPANY  YEAR  RECORDS_LOST COMPANY_TYPE  \\\n",
       "231                River City Media  2017    1370000000          web   \n",
       "157                           Yahoo  2013    1000000000          web   \n",
       "259                         Spambot  2017     711000000          web   \n",
       "186                           Yahoo  2014     500000000          web   \n",
       "249           Friend Finder Network  2017     412000000          web   \n",
       "133                  Court Ventures  2012     200000000    financial   \n",
       "212             Deep Root Analytics  2015     198000000          web   \n",
       "224                         MySpace  2016     164000000          web   \n",
       "128  Massive American business hack  2012     160000000    financial   \n",
       "185                            Ebay  2014     145000000          web   \n",
       "\n",
       "             METHOD_OF_LEAK  NO OF RECORDS STOLEN  DATA SENSITIVITY  \n",
       "231  accidentally published             700000000                20  \n",
       "157                  hacked            1000000000                20  \n",
       "259           poor security             711000000              4000  \n",
       "186                  hacked             500000000                20  \n",
       "249                  hacked             412000000                 1  \n",
       "133              inside job             200000000                20  \n",
       "212           poor security             198000000                20  \n",
       "224                  hacked             164000000                 1  \n",
       "128                  hacked             160000000             50000  \n",
       "185                  hacked             145000000                 1  "
      ]
     },
     "execution_count": 46,
     "metadata": {},
     "output_type": "execute_result"
    }
   ],
   "source": [
    "records = df.sort_values('RECORDS_LOST',ascending=False)[:10]\n",
    "records"
   ]
  },
  {
   "cell_type": "code",
   "execution_count": 47,
   "metadata": {},
   "outputs": [
    {
     "data": {
      "text/html": [
       "<div>\n",
       "<style>\n",
       "    .dataframe thead tr:only-child th {\n",
       "        text-align: right;\n",
       "    }\n",
       "\n",
       "    .dataframe thead th {\n",
       "        text-align: left;\n",
       "    }\n",
       "\n",
       "    .dataframe tbody tr th {\n",
       "        vertical-align: top;\n",
       "    }\n",
       "</style>\n",
       "<table border=\"1\" class=\"dataframe\">\n",
       "  <thead>\n",
       "    <tr style=\"text-align: right;\">\n",
       "      <th></th>\n",
       "      <th>RECORDS_LOST</th>\n",
       "      <th>NO OF RECORDS STOLEN</th>\n",
       "      <th>DATA SENSITIVITY</th>\n",
       "    </tr>\n",
       "    <tr>\n",
       "      <th>YEAR</th>\n",
       "      <th></th>\n",
       "      <th></th>\n",
       "      <th></th>\n",
       "    </tr>\n",
       "  </thead>\n",
       "  <tbody>\n",
       "    <tr>\n",
       "      <th>2004</th>\n",
       "      <td>9.200000e+07</td>\n",
       "      <td>9.200000e+07</td>\n",
       "      <td>1.000000</td>\n",
       "    </tr>\n",
       "    <tr>\n",
       "      <th>2005</th>\n",
       "      <td>1.105625e+07</td>\n",
       "      <td>1.105750e+07</td>\n",
       "      <td>160.000000</td>\n",
       "    </tr>\n",
       "    <tr>\n",
       "      <th>2006</th>\n",
       "      <td>1.171667e+07</td>\n",
       "      <td>1.171667e+07</td>\n",
       "      <td>57.166667</td>\n",
       "    </tr>\n",
       "    <tr>\n",
       "      <th>2007</th>\n",
       "      <td>1.202203e+07</td>\n",
       "      <td>1.201923e+07</td>\n",
       "      <td>101.769231</td>\n",
       "    </tr>\n",
       "    <tr>\n",
       "      <th>2008</th>\n",
       "      <td>4.129156e+06</td>\n",
       "      <td>4.131625e+06</td>\n",
       "      <td>3422.750000</td>\n",
       "    </tr>\n",
       "    <tr>\n",
       "      <th>2009</th>\n",
       "      <td>1.834375e+07</td>\n",
       "      <td>1.834014e+07</td>\n",
       "      <td>930.142857</td>\n",
       "    </tr>\n",
       "    <tr>\n",
       "      <th>2010</th>\n",
       "      <td>8.068238e+05</td>\n",
       "      <td>8.105000e+05</td>\n",
       "      <td>8752.050000</td>\n",
       "    </tr>\n",
       "    <tr>\n",
       "      <th>2011</th>\n",
       "      <td>6.443430e+06</td>\n",
       "      <td>6.444722e+06</td>\n",
       "      <td>2018.055556</td>\n",
       "    </tr>\n",
       "    <tr>\n",
       "      <th>2012</th>\n",
       "      <td>2.777023e+07</td>\n",
       "      <td>2.732346e+07</td>\n",
       "      <td>4327.384615</td>\n",
       "    </tr>\n",
       "    <tr>\n",
       "      <th>2013</th>\n",
       "      <td>4.323400e+07</td>\n",
       "      <td>4.323690e+07</td>\n",
       "      <td>3636.862069</td>\n",
       "    </tr>\n",
       "    <tr>\n",
       "      <th>2014</th>\n",
       "      <td>3.981296e+07</td>\n",
       "      <td>4.078922e+07</td>\n",
       "      <td>4431.695652</td>\n",
       "    </tr>\n",
       "    <tr>\n",
       "      <th>2015</th>\n",
       "      <td>1.771123e+07</td>\n",
       "      <td>1.771136e+07</td>\n",
       "      <td>18200.363636</td>\n",
       "    </tr>\n",
       "    <tr>\n",
       "      <th>2016</th>\n",
       "      <td>3.212762e+07</td>\n",
       "      <td>3.185286e+07</td>\n",
       "      <td>9352.058824</td>\n",
       "    </tr>\n",
       "    <tr>\n",
       "      <th>2017</th>\n",
       "      <td>9.034327e+07</td>\n",
       "      <td>6.940577e+07</td>\n",
       "      <td>7772.750000</td>\n",
       "    </tr>\n",
       "  </tbody>\n",
       "</table>\n",
       "</div>"
      ],
      "text/plain": [
       "      RECORDS_LOST  NO OF RECORDS STOLEN  DATA SENSITIVITY\n",
       "YEAR                                                      \n",
       "2004  9.200000e+07          9.200000e+07          1.000000\n",
       "2005  1.105625e+07          1.105750e+07        160.000000\n",
       "2006  1.171667e+07          1.171667e+07         57.166667\n",
       "2007  1.202203e+07          1.201923e+07        101.769231\n",
       "2008  4.129156e+06          4.131625e+06       3422.750000\n",
       "2009  1.834375e+07          1.834014e+07        930.142857\n",
       "2010  8.068238e+05          8.105000e+05       8752.050000\n",
       "2011  6.443430e+06          6.444722e+06       2018.055556\n",
       "2012  2.777023e+07          2.732346e+07       4327.384615\n",
       "2013  4.323400e+07          4.323690e+07       3636.862069\n",
       "2014  3.981296e+07          4.078922e+07       4431.695652\n",
       "2015  1.771123e+07          1.771136e+07      18200.363636\n",
       "2016  3.212762e+07          3.185286e+07       9352.058824\n",
       "2017  9.034327e+07          6.940577e+07       7772.750000"
      ]
     },
     "execution_count": 47,
     "metadata": {},
     "output_type": "execute_result"
    }
   ],
   "source": [
    "df.groupby(['YEAR']).mean()"
   ]
  },
  {
   "cell_type": "code",
   "execution_count": 48,
   "metadata": {},
   "outputs": [
    {
     "data": {
      "text/html": [
       "<div>\n",
       "<style>\n",
       "    .dataframe thead tr:only-child th {\n",
       "        text-align: right;\n",
       "    }\n",
       "\n",
       "    .dataframe thead th {\n",
       "        text-align: left;\n",
       "    }\n",
       "\n",
       "    .dataframe tbody tr th {\n",
       "        vertical-align: top;\n",
       "    }\n",
       "</style>\n",
       "<table border=\"1\" class=\"dataframe\">\n",
       "  <thead>\n",
       "    <tr style=\"text-align: right;\">\n",
       "      <th></th>\n",
       "      <th>COMPANY</th>\n",
       "      <th>RECORDS_LOST</th>\n",
       "      <th>COMPANY_TYPE</th>\n",
       "      <th>METHOD_OF_LEAK</th>\n",
       "      <th>NO OF RECORDS STOLEN</th>\n",
       "      <th>DATA SENSITIVITY</th>\n",
       "    </tr>\n",
       "    <tr>\n",
       "      <th>YEAR</th>\n",
       "      <th></th>\n",
       "      <th></th>\n",
       "      <th></th>\n",
       "      <th></th>\n",
       "      <th></th>\n",
       "      <th></th>\n",
       "    </tr>\n",
       "  </thead>\n",
       "  <tbody>\n",
       "    <tr>\n",
       "      <th>2004</th>\n",
       "      <td>1</td>\n",
       "      <td>1</td>\n",
       "      <td>1</td>\n",
       "      <td>1</td>\n",
       "      <td>1</td>\n",
       "      <td>1</td>\n",
       "    </tr>\n",
       "    <tr>\n",
       "      <th>2005</th>\n",
       "      <td>4</td>\n",
       "      <td>4</td>\n",
       "      <td>4</td>\n",
       "      <td>4</td>\n",
       "      <td>4</td>\n",
       "      <td>4</td>\n",
       "    </tr>\n",
       "    <tr>\n",
       "      <th>2006</th>\n",
       "      <td>6</td>\n",
       "      <td>6</td>\n",
       "      <td>6</td>\n",
       "      <td>6</td>\n",
       "      <td>6</td>\n",
       "      <td>6</td>\n",
       "    </tr>\n",
       "    <tr>\n",
       "      <th>2007</th>\n",
       "      <td>13</td>\n",
       "      <td>13</td>\n",
       "      <td>13</td>\n",
       "      <td>13</td>\n",
       "      <td>13</td>\n",
       "      <td>13</td>\n",
       "    </tr>\n",
       "    <tr>\n",
       "      <th>2008</th>\n",
       "      <td>16</td>\n",
       "      <td>16</td>\n",
       "      <td>16</td>\n",
       "      <td>16</td>\n",
       "      <td>16</td>\n",
       "      <td>16</td>\n",
       "    </tr>\n",
       "    <tr>\n",
       "      <th>2009</th>\n",
       "      <td>14</td>\n",
       "      <td>14</td>\n",
       "      <td>14</td>\n",
       "      <td>14</td>\n",
       "      <td>14</td>\n",
       "      <td>14</td>\n",
       "    </tr>\n",
       "    <tr>\n",
       "      <th>2010</th>\n",
       "      <td>20</td>\n",
       "      <td>20</td>\n",
       "      <td>20</td>\n",
       "      <td>20</td>\n",
       "      <td>20</td>\n",
       "      <td>20</td>\n",
       "    </tr>\n",
       "    <tr>\n",
       "      <th>2011</th>\n",
       "      <td>36</td>\n",
       "      <td>36</td>\n",
       "      <td>36</td>\n",
       "      <td>36</td>\n",
       "      <td>36</td>\n",
       "      <td>36</td>\n",
       "    </tr>\n",
       "    <tr>\n",
       "      <th>2012</th>\n",
       "      <td>26</td>\n",
       "      <td>26</td>\n",
       "      <td>26</td>\n",
       "      <td>26</td>\n",
       "      <td>26</td>\n",
       "      <td>26</td>\n",
       "    </tr>\n",
       "    <tr>\n",
       "      <th>2013</th>\n",
       "      <td>29</td>\n",
       "      <td>29</td>\n",
       "      <td>29</td>\n",
       "      <td>29</td>\n",
       "      <td>29</td>\n",
       "      <td>29</td>\n",
       "    </tr>\n",
       "    <tr>\n",
       "      <th>2014</th>\n",
       "      <td>23</td>\n",
       "      <td>23</td>\n",
       "      <td>23</td>\n",
       "      <td>23</td>\n",
       "      <td>23</td>\n",
       "      <td>23</td>\n",
       "    </tr>\n",
       "    <tr>\n",
       "      <th>2015</th>\n",
       "      <td>22</td>\n",
       "      <td>22</td>\n",
       "      <td>22</td>\n",
       "      <td>22</td>\n",
       "      <td>22</td>\n",
       "      <td>22</td>\n",
       "    </tr>\n",
       "    <tr>\n",
       "      <th>2016</th>\n",
       "      <td>17</td>\n",
       "      <td>17</td>\n",
       "      <td>17</td>\n",
       "      <td>17</td>\n",
       "      <td>17</td>\n",
       "      <td>17</td>\n",
       "    </tr>\n",
       "    <tr>\n",
       "      <th>2017</th>\n",
       "      <td>32</td>\n",
       "      <td>32</td>\n",
       "      <td>32</td>\n",
       "      <td>32</td>\n",
       "      <td>32</td>\n",
       "      <td>32</td>\n",
       "    </tr>\n",
       "  </tbody>\n",
       "</table>\n",
       "</div>"
      ],
      "text/plain": [
       "      COMPANY  RECORDS_LOST  COMPANY_TYPE  METHOD_OF_LEAK  \\\n",
       "YEAR                                                        \n",
       "2004        1             1             1               1   \n",
       "2005        4             4             4               4   \n",
       "2006        6             6             6               6   \n",
       "2007       13            13            13              13   \n",
       "2008       16            16            16              16   \n",
       "2009       14            14            14              14   \n",
       "2010       20            20            20              20   \n",
       "2011       36            36            36              36   \n",
       "2012       26            26            26              26   \n",
       "2013       29            29            29              29   \n",
       "2014       23            23            23              23   \n",
       "2015       22            22            22              22   \n",
       "2016       17            17            17              17   \n",
       "2017       32            32            32              32   \n",
       "\n",
       "      NO OF RECORDS STOLEN  DATA SENSITIVITY  \n",
       "YEAR                                          \n",
       "2004                     1                 1  \n",
       "2005                     4                 4  \n",
       "2006                     6                 6  \n",
       "2007                    13                13  \n",
       "2008                    16                16  \n",
       "2009                    14                14  \n",
       "2010                    20                20  \n",
       "2011                    36                36  \n",
       "2012                    26                26  \n",
       "2013                    29                29  \n",
       "2014                    23                23  \n",
       "2015                    22                22  \n",
       "2016                    17                17  \n",
       "2017                    32                32  "
      ]
     },
     "execution_count": 48,
     "metadata": {},
     "output_type": "execute_result"
    }
   ],
   "source": [
    "df.groupby(['YEAR']).count()"
   ]
  },
  {
   "cell_type": "code",
   "execution_count": 49,
   "metadata": {},
   "outputs": [
    {
     "data": {
      "text/html": [
       "<div>\n",
       "<style>\n",
       "    .dataframe thead tr:only-child th {\n",
       "        text-align: right;\n",
       "    }\n",
       "\n",
       "    .dataframe thead th {\n",
       "        text-align: left;\n",
       "    }\n",
       "\n",
       "    .dataframe tbody tr th {\n",
       "        vertical-align: top;\n",
       "    }\n",
       "</style>\n",
       "<table border=\"1\" class=\"dataframe\">\n",
       "  <thead>\n",
       "    <tr style=\"text-align: right;\">\n",
       "      <th></th>\n",
       "      <th>COMPANY</th>\n",
       "      <th>YEAR</th>\n",
       "      <th>RECORDS_LOST</th>\n",
       "      <th>METHOD_OF_LEAK</th>\n",
       "      <th>NO OF RECORDS STOLEN</th>\n",
       "      <th>DATA SENSITIVITY</th>\n",
       "    </tr>\n",
       "    <tr>\n",
       "      <th>COMPANY_TYPE</th>\n",
       "      <th></th>\n",
       "      <th></th>\n",
       "      <th></th>\n",
       "      <th></th>\n",
       "      <th></th>\n",
       "      <th></th>\n",
       "    </tr>\n",
       "  </thead>\n",
       "  <tbody>\n",
       "    <tr>\n",
       "      <th>academic</th>\n",
       "      <td>9</td>\n",
       "      <td>9</td>\n",
       "      <td>9</td>\n",
       "      <td>9</td>\n",
       "      <td>9</td>\n",
       "      <td>9</td>\n",
       "    </tr>\n",
       "    <tr>\n",
       "      <th>app</th>\n",
       "      <td>3</td>\n",
       "      <td>3</td>\n",
       "      <td>3</td>\n",
       "      <td>3</td>\n",
       "      <td>3</td>\n",
       "      <td>3</td>\n",
       "    </tr>\n",
       "    <tr>\n",
       "      <th>energy</th>\n",
       "      <td>3</td>\n",
       "      <td>3</td>\n",
       "      <td>3</td>\n",
       "      <td>3</td>\n",
       "      <td>3</td>\n",
       "      <td>3</td>\n",
       "    </tr>\n",
       "    <tr>\n",
       "      <th>financial</th>\n",
       "      <td>32</td>\n",
       "      <td>32</td>\n",
       "      <td>32</td>\n",
       "      <td>32</td>\n",
       "      <td>32</td>\n",
       "      <td>32</td>\n",
       "    </tr>\n",
       "    <tr>\n",
       "      <th>gaming</th>\n",
       "      <td>6</td>\n",
       "      <td>6</td>\n",
       "      <td>6</td>\n",
       "      <td>6</td>\n",
       "      <td>6</td>\n",
       "      <td>6</td>\n",
       "    </tr>\n",
       "    <tr>\n",
       "      <th>government</th>\n",
       "      <td>38</td>\n",
       "      <td>38</td>\n",
       "      <td>38</td>\n",
       "      <td>38</td>\n",
       "      <td>38</td>\n",
       "      <td>38</td>\n",
       "    </tr>\n",
       "    <tr>\n",
       "      <th>government, healthcare</th>\n",
       "      <td>2</td>\n",
       "      <td>2</td>\n",
       "      <td>2</td>\n",
       "      <td>2</td>\n",
       "      <td>2</td>\n",
       "      <td>2</td>\n",
       "    </tr>\n",
       "    <tr>\n",
       "      <th>government, military</th>\n",
       "      <td>1</td>\n",
       "      <td>1</td>\n",
       "      <td>1</td>\n",
       "      <td>1</td>\n",
       "      <td>1</td>\n",
       "      <td>1</td>\n",
       "    </tr>\n",
       "    <tr>\n",
       "      <th>healthcare</th>\n",
       "      <td>36</td>\n",
       "      <td>36</td>\n",
       "      <td>36</td>\n",
       "      <td>36</td>\n",
       "      <td>36</td>\n",
       "      <td>36</td>\n",
       "    </tr>\n",
       "    <tr>\n",
       "      <th>legal</th>\n",
       "      <td>1</td>\n",
       "      <td>1</td>\n",
       "      <td>1</td>\n",
       "      <td>1</td>\n",
       "      <td>1</td>\n",
       "      <td>1</td>\n",
       "    </tr>\n",
       "    <tr>\n",
       "      <th>media</th>\n",
       "      <td>3</td>\n",
       "      <td>3</td>\n",
       "      <td>3</td>\n",
       "      <td>3</td>\n",
       "      <td>3</td>\n",
       "      <td>3</td>\n",
       "    </tr>\n",
       "    <tr>\n",
       "      <th>military</th>\n",
       "      <td>6</td>\n",
       "      <td>6</td>\n",
       "      <td>6</td>\n",
       "      <td>6</td>\n",
       "      <td>6</td>\n",
       "      <td>6</td>\n",
       "    </tr>\n",
       "    <tr>\n",
       "      <th>military, healthcare</th>\n",
       "      <td>1</td>\n",
       "      <td>1</td>\n",
       "      <td>1</td>\n",
       "      <td>1</td>\n",
       "      <td>1</td>\n",
       "      <td>1</td>\n",
       "    </tr>\n",
       "    <tr>\n",
       "      <th>retail</th>\n",
       "      <td>15</td>\n",
       "      <td>15</td>\n",
       "      <td>15</td>\n",
       "      <td>15</td>\n",
       "      <td>15</td>\n",
       "      <td>15</td>\n",
       "    </tr>\n",
       "    <tr>\n",
       "      <th>tech</th>\n",
       "      <td>10</td>\n",
       "      <td>10</td>\n",
       "      <td>10</td>\n",
       "      <td>10</td>\n",
       "      <td>10</td>\n",
       "      <td>10</td>\n",
       "    </tr>\n",
       "    <tr>\n",
       "      <th>tech, retail</th>\n",
       "      <td>2</td>\n",
       "      <td>2</td>\n",
       "      <td>2</td>\n",
       "      <td>2</td>\n",
       "      <td>2</td>\n",
       "      <td>2</td>\n",
       "    </tr>\n",
       "    <tr>\n",
       "      <th>tech, web</th>\n",
       "      <td>2</td>\n",
       "      <td>2</td>\n",
       "      <td>2</td>\n",
       "      <td>2</td>\n",
       "      <td>2</td>\n",
       "      <td>2</td>\n",
       "    </tr>\n",
       "    <tr>\n",
       "      <th>telecoms</th>\n",
       "      <td>9</td>\n",
       "      <td>9</td>\n",
       "      <td>9</td>\n",
       "      <td>9</td>\n",
       "      <td>9</td>\n",
       "      <td>9</td>\n",
       "    </tr>\n",
       "    <tr>\n",
       "      <th>transport</th>\n",
       "      <td>3</td>\n",
       "      <td>3</td>\n",
       "      <td>3</td>\n",
       "      <td>3</td>\n",
       "      <td>3</td>\n",
       "      <td>3</td>\n",
       "    </tr>\n",
       "    <tr>\n",
       "      <th>web</th>\n",
       "      <td>74</td>\n",
       "      <td>74</td>\n",
       "      <td>74</td>\n",
       "      <td>74</td>\n",
       "      <td>74</td>\n",
       "      <td>74</td>\n",
       "    </tr>\n",
       "    <tr>\n",
       "      <th>web, gaming</th>\n",
       "      <td>1</td>\n",
       "      <td>1</td>\n",
       "      <td>1</td>\n",
       "      <td>1</td>\n",
       "      <td>1</td>\n",
       "      <td>1</td>\n",
       "    </tr>\n",
       "    <tr>\n",
       "      <th>web, military</th>\n",
       "      <td>1</td>\n",
       "      <td>1</td>\n",
       "      <td>1</td>\n",
       "      <td>1</td>\n",
       "      <td>1</td>\n",
       "      <td>1</td>\n",
       "    </tr>\n",
       "    <tr>\n",
       "      <th>web, tech</th>\n",
       "      <td>1</td>\n",
       "      <td>1</td>\n",
       "      <td>1</td>\n",
       "      <td>1</td>\n",
       "      <td>1</td>\n",
       "      <td>1</td>\n",
       "    </tr>\n",
       "  </tbody>\n",
       "</table>\n",
       "</div>"
      ],
      "text/plain": [
       "                        COMPANY  YEAR  RECORDS_LOST  METHOD_OF_LEAK  \\\n",
       "COMPANY_TYPE                                                          \n",
       "academic                      9     9             9               9   \n",
       "app                           3     3             3               3   \n",
       "energy                        3     3             3               3   \n",
       "financial                    32    32            32              32   \n",
       "gaming                        6     6             6               6   \n",
       "government                   38    38            38              38   \n",
       "government, healthcare        2     2             2               2   \n",
       "government, military          1     1             1               1   \n",
       "healthcare                   36    36            36              36   \n",
       "legal                         1     1             1               1   \n",
       "media                         3     3             3               3   \n",
       "military                      6     6             6               6   \n",
       "military, healthcare          1     1             1               1   \n",
       "retail                       15    15            15              15   \n",
       "tech                         10    10            10              10   \n",
       "tech, retail                  2     2             2               2   \n",
       "tech, web                     2     2             2               2   \n",
       "telecoms                      9     9             9               9   \n",
       "transport                     3     3             3               3   \n",
       "web                          74    74            74              74   \n",
       "web, gaming                   1     1             1               1   \n",
       "web, military                 1     1             1               1   \n",
       "web, tech                     1     1             1               1   \n",
       "\n",
       "                        NO OF RECORDS STOLEN  DATA SENSITIVITY  \n",
       "COMPANY_TYPE                                                    \n",
       "academic                                   9                 9  \n",
       "app                                        3                 3  \n",
       "energy                                     3                 3  \n",
       "financial                                 32                32  \n",
       "gaming                                     6                 6  \n",
       "government                                38                38  \n",
       "government, healthcare                     2                 2  \n",
       "government, military                       1                 1  \n",
       "healthcare                                36                36  \n",
       "legal                                      1                 1  \n",
       "media                                      3                 3  \n",
       "military                                   6                 6  \n",
       "military, healthcare                       1                 1  \n",
       "retail                                    15                15  \n",
       "tech                                      10                10  \n",
       "tech, retail                               2                 2  \n",
       "tech, web                                  2                 2  \n",
       "telecoms                                   9                 9  \n",
       "transport                                  3                 3  \n",
       "web                                       74                74  \n",
       "web, gaming                                1                 1  \n",
       "web, military                              1                 1  \n",
       "web, tech                                  1                 1  "
      ]
     },
     "execution_count": 49,
     "metadata": {},
     "output_type": "execute_result"
    }
   ],
   "source": [
    "df.groupby(['COMPANY_TYPE']).count()"
   ]
  },
  {
   "cell_type": "code",
   "execution_count": 50,
   "metadata": {},
   "outputs": [
    {
     "data": {
      "text/html": [
       "<div>\n",
       "<style>\n",
       "    .dataframe thead tr:only-child th {\n",
       "        text-align: right;\n",
       "    }\n",
       "\n",
       "    .dataframe thead th {\n",
       "        text-align: left;\n",
       "    }\n",
       "\n",
       "    .dataframe tbody tr th {\n",
       "        vertical-align: top;\n",
       "    }\n",
       "</style>\n",
       "<table border=\"1\" class=\"dataframe\">\n",
       "  <thead>\n",
       "    <tr style=\"text-align: right;\">\n",
       "      <th></th>\n",
       "      <th>COMPANY</th>\n",
       "      <th>YEAR</th>\n",
       "      <th>RECORDS_LOST</th>\n",
       "      <th>COMPANY_TYPE</th>\n",
       "      <th>NO OF RECORDS STOLEN</th>\n",
       "      <th>DATA SENSITIVITY</th>\n",
       "    </tr>\n",
       "    <tr>\n",
       "      <th>METHOD_OF_LEAK</th>\n",
       "      <th></th>\n",
       "      <th></th>\n",
       "      <th></th>\n",
       "      <th></th>\n",
       "      <th></th>\n",
       "      <th></th>\n",
       "    </tr>\n",
       "  </thead>\n",
       "  <tbody>\n",
       "    <tr>\n",
       "      <th>accidentally published</th>\n",
       "      <td>17</td>\n",
       "      <td>17</td>\n",
       "      <td>17</td>\n",
       "      <td>17</td>\n",
       "      <td>17</td>\n",
       "      <td>17</td>\n",
       "    </tr>\n",
       "    <tr>\n",
       "      <th>hacked</th>\n",
       "      <td>159</td>\n",
       "      <td>159</td>\n",
       "      <td>159</td>\n",
       "      <td>159</td>\n",
       "      <td>159</td>\n",
       "      <td>159</td>\n",
       "    </tr>\n",
       "    <tr>\n",
       "      <th>hacked</th>\n",
       "      <td>1</td>\n",
       "      <td>1</td>\n",
       "      <td>1</td>\n",
       "      <td>1</td>\n",
       "      <td>1</td>\n",
       "      <td>1</td>\n",
       "    </tr>\n",
       "    <tr>\n",
       "      <th>inside job</th>\n",
       "      <td>19</td>\n",
       "      <td>19</td>\n",
       "      <td>19</td>\n",
       "      <td>19</td>\n",
       "      <td>19</td>\n",
       "      <td>19</td>\n",
       "    </tr>\n",
       "    <tr>\n",
       "      <th>lost / stolen device or media</th>\n",
       "      <td>50</td>\n",
       "      <td>50</td>\n",
       "      <td>50</td>\n",
       "      <td>50</td>\n",
       "      <td>50</td>\n",
       "      <td>50</td>\n",
       "    </tr>\n",
       "    <tr>\n",
       "      <th>poor security</th>\n",
       "      <td>13</td>\n",
       "      <td>13</td>\n",
       "      <td>13</td>\n",
       "      <td>13</td>\n",
       "      <td>13</td>\n",
       "      <td>13</td>\n",
       "    </tr>\n",
       "  </tbody>\n",
       "</table>\n",
       "</div>"
      ],
      "text/plain": [
       "                               COMPANY  YEAR  RECORDS_LOST  COMPANY_TYPE  \\\n",
       "METHOD_OF_LEAK                                                             \n",
       "accidentally published              17    17            17            17   \n",
       "hacked                             159   159           159           159   \n",
       "hacked                               1     1             1             1   \n",
       "inside job                          19    19            19            19   \n",
       "lost / stolen device or media       50    50            50            50   \n",
       "poor security                       13    13            13            13   \n",
       "\n",
       "                               NO OF RECORDS STOLEN  DATA SENSITIVITY  \n",
       "METHOD_OF_LEAK                                                         \n",
       "accidentally published                           17                17  \n",
       "hacked                                          159               159  \n",
       "hacked                                            1                 1  \n",
       "inside job                                       19                19  \n",
       "lost / stolen device or media                    50                50  \n",
       "poor security                                    13                13  "
      ]
     },
     "execution_count": 50,
     "metadata": {},
     "output_type": "execute_result"
    }
   ],
   "source": [
    "df.groupby(['METHOD_OF_LEAK']).count()"
   ]
  },
  {
   "cell_type": "code",
   "execution_count": 54,
   "metadata": {},
   "outputs": [
    {
     "data": {
      "text/html": [
       "<div>\n",
       "<style>\n",
       "    .dataframe thead tr:only-child th {\n",
       "        text-align: right;\n",
       "    }\n",
       "\n",
       "    .dataframe thead th {\n",
       "        text-align: left;\n",
       "    }\n",
       "\n",
       "    .dataframe tbody tr th {\n",
       "        vertical-align: top;\n",
       "    }\n",
       "</style>\n",
       "<table border=\"1\" class=\"dataframe\">\n",
       "  <thead>\n",
       "    <tr style=\"text-align: right;\">\n",
       "      <th></th>\n",
       "      <th>YEAR</th>\n",
       "      <th>RECORDS_LOST</th>\n",
       "      <th>NO OF RECORDS STOLEN</th>\n",
       "      <th>DATA SENSITIVITY</th>\n",
       "    </tr>\n",
       "  </thead>\n",
       "  <tbody>\n",
       "    <tr>\n",
       "      <th>YEAR</th>\n",
       "      <td>1.000000</td>\n",
       "      <td>0.155321</td>\n",
       "      <td>0.153429</td>\n",
       "      <td>0.194758</td>\n",
       "    </tr>\n",
       "    <tr>\n",
       "      <th>RECORDS_LOST</th>\n",
       "      <td>0.155321</td>\n",
       "      <td>1.000000</td>\n",
       "      <td>0.951580</td>\n",
       "      <td>-0.022195</td>\n",
       "    </tr>\n",
       "    <tr>\n",
       "      <th>NO OF RECORDS STOLEN</th>\n",
       "      <td>0.153429</td>\n",
       "      <td>0.951580</td>\n",
       "      <td>1.000000</td>\n",
       "      <td>-0.017860</td>\n",
       "    </tr>\n",
       "    <tr>\n",
       "      <th>DATA SENSITIVITY</th>\n",
       "      <td>0.194758</td>\n",
       "      <td>-0.022195</td>\n",
       "      <td>-0.017860</td>\n",
       "      <td>1.000000</td>\n",
       "    </tr>\n",
       "  </tbody>\n",
       "</table>\n",
       "</div>"
      ],
      "text/plain": [
       "                          YEAR  RECORDS_LOST  NO OF RECORDS STOLEN  \\\n",
       "YEAR                  1.000000      0.155321              0.153429   \n",
       "RECORDS_LOST          0.155321      1.000000              0.951580   \n",
       "NO OF RECORDS STOLEN  0.153429      0.951580              1.000000   \n",
       "DATA SENSITIVITY      0.194758     -0.022195             -0.017860   \n",
       "\n",
       "                      DATA SENSITIVITY  \n",
       "YEAR                          0.194758  \n",
       "RECORDS_LOST                 -0.022195  \n",
       "NO OF RECORDS STOLEN         -0.017860  \n",
       "DATA SENSITIVITY              1.000000  "
      ]
     },
     "execution_count": 54,
     "metadata": {},
     "output_type": "execute_result"
    }
   ],
   "source": [
    "df.corr()"
   ]
  },
  {
   "cell_type": "markdown",
   "metadata": {},
   "source": [
    "### Data Analyzation\n",
    "Given the limitations of this data set and the limititation of data on this topic in general it would be tough to do any further data analyzation on the topic that would be helpful for future attacks. Companies tend to keep most of the information on this topic private so it is hard to find a data set that would be beneficaial in preventing attacks."
   ]
  },
  {
   "cell_type": "code",
   "execution_count": null,
   "metadata": {
    "collapsed": true
   },
   "outputs": [],
   "source": []
  }
 ],
 "metadata": {
  "kernelspec": {
   "display_name": "Python 2",
   "language": "python",
   "name": "python2"
  },
  "language_info": {
   "codemirror_mode": {
    "name": "ipython",
    "version": 2
   },
   "file_extension": ".py",
   "mimetype": "text/x-python",
   "name": "python",
   "nbconvert_exporter": "python",
   "pygments_lexer": "ipython2",
   "version": "2.7.13"
  }
 },
 "nbformat": 4,
 "nbformat_minor": 2
}
